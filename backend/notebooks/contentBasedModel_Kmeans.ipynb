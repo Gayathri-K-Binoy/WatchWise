{
  "nbformat": 4,
  "nbformat_minor": 0,
  "metadata": {
    "colab": {
      "provenance": []
    },
    "kernelspec": {
      "name": "python3",
      "display_name": "Python 3"
    },
    "language_info": {
      "name": "python"
    }
  },
  "cells": [
    {
      "cell_type": "markdown",
      "source": [
        "# 1. Importing Libraries"
      ],
      "metadata": {
        "id": "maZPce_6xnDL"
      }
    },
    {
      "cell_type": "code",
      "source": [
        "import pandas as pd\n",
        "import os\n",
        "import pickle"
      ],
      "metadata": {
        "id": "AjpilCFSxk21"
      },
      "execution_count": 1,
      "outputs": []
    },
    {
      "cell_type": "markdown",
      "source": [
        "# 2. Loading The Dataset & Define Paths For Files"
      ],
      "metadata": {
        "id": "xv56e1VKxup7"
      }
    },
    {
      "cell_type": "code",
      "source": [
        "df = pd.read_csv(\"/content/netflix_mood_recommender_test.csv\")"
      ],
      "metadata": {
        "id": "L7_lt-GAxyvs"
      },
      "execution_count": 2,
      "outputs": []
    },
    {
      "cell_type": "code",
      "source": [
        "TFIDF_MATRIX_PATH = 'tfidf_matrix.pkl'\n",
        "VECTORIZER_PATH = 'tfidf_vectorizer.pkl'\n",
        "CLUSTER_PATH = 'content_model.pkl'"
      ],
      "metadata": {
        "id": "uycwtvtUywaC"
      },
      "execution_count": 45,
      "outputs": []
    },
    {
      "cell_type": "markdown",
      "source": [
        "#3. Process Features"
      ],
      "metadata": {
        "id": "khKJck3YyZKw"
      }
    },
    {
      "cell_type": "code",
      "source": [
        "from sklearn.feature_extraction.text import TfidfVectorizer\n",
        "\n",
        "if os.path.exists(VECTORIZER_PATH) and os.path.exists(TFIDF_MATRIX_PATH):\n",
        "    with open(VECTORIZER_PATH, 'rb') as f:\n",
        "        tfidf = pickle.load(f)\n",
        "    with open(TFIDF_MATRIX_PATH, 'rb') as f:\n",
        "        tfidf_matrix = pickle.load(f)\n",
        "else:\n",
        "    df['combined_text'] = df['mood'] + \" \" + df['description']\n",
        "    tfidf = TfidfVectorizer(stop_words='english')\n",
        "    tfidf_matrix = tfidf.fit_transform(df['combined_text'])\n",
        "\n",
        "    with open(VECTORIZER_PATH, 'wb') as f:\n",
        "        pickle.dump(tfidf, f)\n",
        "    with open(TFIDF_MATRIX_PATH, 'wb') as f:\n",
        "        pickle.dump(tfidf_matrix, f)"
      ],
      "metadata": {
        "id": "xauzs85Oyggx"
      },
      "execution_count": 32,
      "outputs": []
    },
    {
      "cell_type": "markdown",
      "source": [
        "# 4. Model Creation"
      ],
      "metadata": {
        "id": "y3vOMqgBzW82"
      }
    },
    {
      "cell_type": "code",
      "source": [
        "from sklearn.cluster import KMeans"
      ],
      "metadata": {
        "id": "eaYtxi5gzage"
      },
      "execution_count": 33,
      "outputs": []
    },
    {
      "cell_type": "markdown",
      "source": [
        "Implementing Elbow Method"
      ],
      "metadata": {
        "id": "XN069fZLdVpD"
      }
    },
    {
      "cell_type": "code",
      "source": [
        "import matplotlib.pyplot as plt\n",
        "\n",
        "# Range of cluster numbers to try\n",
        "k_range = range(1, 31)\n",
        "\n",
        "# List to store the inertia for each k\n",
        "inertia = []\n",
        "\n",
        "# Calculate inertia for each k\n",
        "for k in k_range:\n",
        "    kmeans = KMeans(n_clusters=k, random_state=42)\n",
        "    kmeans.fit(tfidf_matrix)\n",
        "    inertia.append(kmeans.inertia_)\n",
        "\n",
        "# Plot the inertia for each k\n",
        "plt.plot(k_range, inertia, marker='o')\n",
        "plt.xlabel('Number of clusters (k)')\n",
        "plt.ylabel('Inertia')\n",
        "plt.title('Elbow Method for Optimal k')\n",
        "plt.show()"
      ],
      "metadata": {
        "colab": {
          "base_uri": "https://localhost:8080/",
          "height": 472
        },
        "id": "5emslGIJdUrq",
        "outputId": "28054deb-ec35-4e9a-f1c8-984103ef886e"
      },
      "execution_count": 17,
      "outputs": [
        {
          "output_type": "display_data",
          "data": {
            "text/plain": [
              "<Figure size 640x480 with 1 Axes>"
            ],
            "image/png": "[encoded data removed]"
          },
          "metadata": {}
        }
      ]
    },
    {
      "cell_type": "code",
      "source": [
        "import numpy as np\n",
        "\n",
        "# Calculate the differences in inertia\n",
        "inertia_diff = np.diff(inertia)\n",
        "\n",
        "# Find the index where the largest difference occurs\n",
        "elbow_point = np.argmax(inertia_diff) + 1  # Add 1 because diff reduces the size by 1\n",
        "\n",
        "print(f\"The optimal number of clusters is approximately: {elbow_point}\")"
      ],
      "metadata": {
        "colab": {
          "base_uri": "https://localhost:8080/"
        },
        "id": "D75RHd46dtSm",
        "outputId": "0a66b329-2ea9-4a9f-a7fc-a07688f06311"
      },
      "execution_count": 18,
      "outputs": [
        {
          "output_type": "stream",
          "name": "stdout",
          "text": [
            "The optimal number of clusters is approximately: 27\n"
          ]
        }
      ]
    },
    {
      "cell_type": "code",
      "source": [
        "if os.path.exists(CLUSTER_PATH):\n",
        "    with open(CLUSTER_PATH, 'rb') as f:\n",
        "        kmeans = pickle.load(f)\n",
        "else:\n",
        "    n_clusters = 27  # Based On Elbow Method\n",
        "    kmeans = KMeans(n_clusters = n_clusters,\n",
        "                    random_state = 42)\n",
        "    cluster_labels = kmeans.fit_predict(tfidf_matrix)\n",
        "    with open(CLUSTER_PATH, 'wb') as f:\n",
        "        pickle.dump(kmeans, f)\n",
        "\n",
        "# Assigning cluster labels to the DataFrame\n",
        "df['cluster'] = cluster_labels"
      ],
      "metadata": {
        "id": "SeztYV5hgP0n"
      },
      "execution_count": 34,
      "outputs": []
    },
    {
      "cell_type": "markdown",
      "source": [
        "# 5. Function to Recommend Shows"
      ],
      "metadata": {
        "id": "gDXqJ2Zc0LK0"
      }
    },
    {
      "cell_type": "code",
      "source": [
        "import pickle\n",
        "from sklearn.metrics.pairwise import cosine_similarity\n",
        "\n",
        "def recommend_show(movie_title, num_recommendations, df = df, kmeans = kmeans, tfidf_matrix = tfidf_matrix, sim_matrix_path = 'cosine_similarity.pkl'):\n",
        "    movie_id = df[df['title'] == movie_title].index[0]\n",
        "\n",
        "    selected_cluster = df.loc[movie_id, 'cluster']\n",
        "\n",
        "    # Filter movies in the same cluster\n",
        "    cluster_movies = df[df['cluster'] == selected_cluster]\n",
        "\n",
        "    cluster_tfidf = tfidf_matrix[cluster_movies.index]\n",
        "    cosine_sim = cosine_similarity(cluster_tfidf)\n",
        "\n",
        "    movie_index_in_cluster = cluster_movies.index.get_loc(movie_id)\n",
        "    similar_movies = cluster_movies.iloc[cosine_sim[movie_index_in_cluster].argsort()[::-1][1:]]\n",
        "    top_recommendations = similar_movies.head(num_recommendations)\n",
        "\n",
        "    return top_recommendations['title'].tolist()"
      ],
      "metadata": {
        "id": "sDl6CirNe-vw"
      },
      "execution_count": 46,
      "outputs": []
    },
    {
      "cell_type": "markdown",
      "source": [
        "# Testing"
      ],
      "metadata": {
        "id": "MFbuJH134QHH"
      }
    },
    {
      "cell_type": "code",
      "source": [
        "title_to_search = \"Friends\"\n",
        "num_recommendations = 10\n",
        "\n",
        "recommended_shows = recommend_show(title_to_search, num_recommendations = num_recommendations)\n",
        "print(f\"Top {num_recommendations} recommended shows for '{title_to_search}':\")\n",
        "for show in recommended_shows:\n",
        "    print(f\"- {show}\")"
      ],
      "metadata": {
        "colab": {
          "base_uri": "https://localhost:8080/"
        },
        "collapsed": true,
        "id": "w6TrvGbC0TqN",
        "outputId": "da399d52-76a2-4f78-9d55-712e0df8f3ff"
      },
      "execution_count": 47,
      "outputs": [
        {
          "output_type": "stream",
          "name": "stdout",
          "text": [
            "Top 10 recommended shows for 'Friends':\n",
            "- Manhattan Romance\n",
            "- O-Negative, Love Canât Be Designed\n",
            "- Mehandi Circus\n",
            "- Patron Mutlu Son Istiyor\n",
            "- Workin' Moms\n",
            "- Karthik Calling Karthik\n",
            "- Omar & Salma 2\n",
            "- Satrangi Re\n",
            "- Ram Jaane\n",
            "- Exes Baggage\n"
          ]
        }
      ]
    },
    {
      "cell_type": "markdown",
      "source": [
        "Top 10 recommended shows for 'Friends':\n",
        "- Manhattan Romance\n",
        "- O-Negative, Love Canât Be Designed\n",
        "- Mehandi Circus\n",
        "- Patron Mutlu Son Istiyor\n",
        "- Workin' Moms\n",
        "- Karthik Calling Karthik\n",
        "- Omar & Salma 2\n",
        "- Satrangi Re\n",
        "- Ram Jaane\n",
        "- Exes Baggage"
      ],
      "metadata": {
        "id": "0LVfr5IdX9pY"
      }
    },
    {
      "cell_type": "code",
      "source": [
        "title_to_search = \"Hitch\"\n",
        "num_recommendations = 10\n",
        "\n",
        "recommended_shows = recommend_show(title_to_search, num_recommendations = num_recommendations)\n",
        "print(f\"Top {num_recommendations} recommended shows for '{title_to_search}':\")\n",
        "for show in recommended_shows:\n",
        "    print(f\"- {show}\")"
      ],
      "metadata": {
        "colab": {
          "base_uri": "https://localhost:8080/"
        },
        "id": "ucSCZ_FtcdY9",
        "outputId": "6ace073d-7d09-4f0d-8079-cc8a8079351f"
      },
      "execution_count": 48,
      "outputs": [
        {
          "output_type": "stream",
          "name": "stdout",
          "text": [
            "Top 10 recommended shows for 'Hitch':\n",
            "- One Day\n",
            "- Call My Agent!\n",
            "- The Last Thing He Wanted\n",
            "- Furthest Witness\n",
            "- Upstarts\n",
            "- Lethal Love\n",
            "- Garuda Di Dadaku\n",
            "- Alibaba Aur 40 Chor\n",
            "- Ek Hasina Thi\n",
            "- Operation Odessa\n"
          ]
        }
      ]
    },
    {
      "cell_type": "markdown",
      "source": [
        "Top 10 recommended shows for 'Hitch':\n",
        "- One Day\n",
        "- Call My Agent!\n",
        "- The Last Thing He Wanted\n",
        "- Furthest Witness\n",
        "- Upstarts\n",
        "- Lethal Love\n",
        "- Garuda Di Dadaku\n",
        "- Alibaba Aur 40 Chor\n",
        "- Ek Hasina Thi\n",
        "- Operation Odessa"
      ],
      "metadata": {
        "id": "AEK2uGRbd-pP"
      }
    },
    {
      "cell_type": "code",
      "source": [
        "for mood in df['mood'].unique():\n",
        "  count = df['mood'].value_counts().get(mood, 0)\n",
        "  print(f\"{mood}: {count}\")"
      ],
      "metadata": {
        "colab": {
          "base_uri": "https://localhost:8080/"
        },
        "id": "kHFKyNeJ4uh6",
        "outputId": "5e5307e6-5653-43a0-cf71-5399c0762317"
      },
      "execution_count": 44,
      "outputs": [
        {
          "output_type": "stream",
          "name": "stdout",
          "text": [
            "sadness, joy: 160\n",
            "disgust, fear: 408\n",
            "anger, disgust: 625\n",
            "disgust, joy: 291\n",
            "joy, fear: 143\n",
            "fear, joy: 153\n",
            "joy, anger: 133\n",
            "disgust, sadness: 377\n",
            "joy, surprise: 905\n",
            "joy, disgust: 613\n",
            "disgust, anger: 1360\n",
            "fear, sadness: 364\n",
            "surprise, joy: 217\n",
            "fear, disgust: 569\n",
            "anger, fear: 186\n",
            "fear, surprise: 260\n",
            "surprise, sadness: 34\n",
            "sadness, disgust: 445\n",
            "fear, anger: 435\n",
            "anger, joy: 41\n",
            "sadness, fear: 264\n",
            "sadness, anger: 89\n",
            "sadness, surprise: 72\n",
            "joy, sadness: 301\n",
            "anger, sadness: 61\n",
            "surprise, anger: 42\n",
            "surprise, fear: 110\n",
            "disgust, surprise: 74\n",
            "surprise, disgust: 61\n",
            "anger, surprise: 16\n"
          ]
        }
      ]
    }
  ]
}