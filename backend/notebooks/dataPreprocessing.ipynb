{
  "cells": [
    {
      "cell_type": "markdown",
      "metadata": {
        "id": "OZNOKynRADpc"
      },
      "source": [
        "# 1. Adding Dependencies"
      ]
    },
    {
      "cell_type": "code",
      "execution_count": null,
      "metadata": {
        "colab": {
          "base_uri": "https://localhost:8080/"
        },
        "collapsed": true,
        "id": "l72u1Z9uYujp",
        "outputId": "a3c58c31-ad41-4b8b-ac51-aa877e0ce3a2"
      },
      "outputs": [
        {
          "name": "stdout",
          "output_type": "stream",
          "text": [
            "Requirement already satisfied: kaggle in /usr/local/lib/python3.10/dist-packages (1.6.17)\n",
            "Requirement already satisfied: six>=1.10 in /usr/local/lib/python3.10/dist-packages (from kaggle) (1.17.0)\n",
            "Requirement already satisfied: certifi>=2023.7.22 in /usr/local/lib/python3.10/dist-packages (from kaggle) (2024.12.14)\n",
            "Requirement already satisfied: python-dateutil in /usr/local/lib/python3.10/dist-packages (from kaggle) (2.8.2)\n",
            "Requirement already satisfied: requests in /usr/local/lib/python3.10/dist-packages (from kaggle) (2.32.3)\n",
            "Requirement already satisfied: tqdm in /usr/local/lib/python3.10/dist-packages (from kaggle) (4.67.1)\n",
            "Requirement already satisfied: python-slugify in /usr/local/lib/python3.10/dist-packages (from kaggle) (8.0.4)\n",
            "Requirement already satisfied: urllib3 in /usr/local/lib/python3.10/dist-packages (from kaggle) (2.2.3)\n",
            "Requirement already satisfied: bleach in /usr/local/lib/python3.10/dist-packages (from kaggle) (6.2.0)\n",
            "Requirement already satisfied: webencodings in /usr/local/lib/python3.10/dist-packages (from bleach->kaggle) (0.5.1)\n",
            "Requirement already satisfied: text-unidecode>=1.3 in /usr/local/lib/python3.10/dist-packages (from python-slugify->kaggle) (1.3)\n",
            "Requirement already satisfied: charset-normalizer<4,>=2 in /usr/local/lib/python3.10/dist-packages (from requests->kaggle) (3.4.0)\n",
            "Requirement already satisfied: idna<4,>=2.5 in /usr/local/lib/python3.10/dist-packages (from requests->kaggle) (3.10)\n",
            "Collecting opendatasets\n",
            "  Downloading opendatasets-0.1.22-py3-none-any.whl.metadata (9.2 kB)\n",
            "Requirement already satisfied: tqdm in /usr/local/lib/python3.10/dist-packages (from opendatasets) (4.67.1)\n",
            "Requirement already satisfied: kaggle in /usr/local/lib/python3.10/dist-packages (from opendatasets) (1.6.17)\n",
            "Requirement already satisfied: click in /usr/local/lib/python3.10/dist-packages (from opendatasets) (8.1.7)\n",
            "Requirement already satisfied: six>=1.10 in /usr/local/lib/python3.10/dist-packages (from kaggle->opendatasets) (1.17.0)\n",
            "Requirement already satisfied: certifi>=2023.7.22 in /usr/local/lib/python3.10/dist-packages (from kaggle->opendatasets) (2024.12.14)\n",
            "Requirement already satisfied: python-dateutil in /usr/local/lib/python3.10/dist-packages (from kaggle->opendatasets) (2.8.2)\n",
            "Requirement already satisfied: requests in /usr/local/lib/python3.10/dist-packages (from kaggle->opendatasets) (2.32.3)\n",
            "Requirement already satisfied: python-slugify in /usr/local/lib/python3.10/dist-packages (from kaggle->opendatasets) (8.0.4)\n",
            "Requirement already satisfied: urllib3 in /usr/local/lib/python3.10/dist-packages (from kaggle->opendatasets) (2.2.3)\n",
            "Requirement already satisfied: bleach in /usr/local/lib/python3.10/dist-packages (from kaggle->opendatasets) (6.2.0)\n",
            "Requirement already satisfied: webencodings in /usr/local/lib/python3.10/dist-packages (from bleach->kaggle->opendatasets) (0.5.1)\n",
            "Requirement already satisfied: text-unidecode>=1.3 in /usr/local/lib/python3.10/dist-packages (from python-slugify->kaggle->opendatasets) (1.3)\n",
            "Requirement already satisfied: charset-normalizer<4,>=2 in /usr/local/lib/python3.10/dist-packages (from requests->kaggle->opendatasets) (3.4.0)\n",
            "Requirement already satisfied: idna<4,>=2.5 in /usr/local/lib/python3.10/dist-packages (from requests->kaggle->opendatasets) (3.10)\n",
            "Downloading opendatasets-0.1.22-py3-none-any.whl (15 kB)\n",
            "Installing collected packages: opendatasets\n",
            "Successfully installed opendatasets-0.1.22\n",
            "Requirement already satisfied: pandas in /usr/local/lib/python3.10/dist-packages (2.2.2)\n",
            "Requirement already satisfied: numpy>=1.22.4 in /usr/local/lib/python3.10/dist-packages (from pandas) (1.26.4)\n",
            "Requirement already satisfied: python-dateutil>=2.8.2 in /usr/local/lib/python3.10/dist-packages (from pandas) (2.8.2)\n",
            "Requirement already satisfied: pytz>=2020.1 in /usr/local/lib/python3.10/dist-packages (from pandas) (2024.2)\n",
            "Requirement already satisfied: tzdata>=2022.7 in /usr/local/lib/python3.10/dist-packages (from pandas) (2024.2)\n",
            "Requirement already satisfied: six>=1.5 in /usr/local/lib/python3.10/dist-packages (from python-dateutil>=2.8.2->pandas) (1.17.0)\n"
          ]
        }
      ],
      "source": [
        "!pip install kaggle\n",
        "!pip install opendatasets\n",
        "!pip install pandas"
      ]
    },
    {
      "cell_type": "markdown",
      "metadata": {
        "id": "MVlxyjEXAKTC"
      },
      "source": [
        "# 2. Loading Dataset"
      ]
    },
    {
      "cell_type": "code",
      "execution_count": null,
      "metadata": {
        "colab": {
          "base_uri": "https://localhost:8080/",
          "height": 108
        },
        "id": "BBDWpzGdY2P0",
        "outputId": "ded933a5-9365-4687-a9ba-fd4c1a895e22"
      },
      "outputs": [
        {
          "data": {
            "text/html": [
              "\n",
              "     <input type=\"file\" id=\"files-cd3cd9e9-ca1c-4dab-98e5-e2d45fde14ea\" name=\"files[]\" multiple disabled\n",
              "        style=\"border:none\" />\n",
              "     <output id=\"result-cd3cd9e9-ca1c-4dab-98e5-e2d45fde14ea\">\n",
              "      Upload widget is only available when the cell has been executed in the\n",
              "      current browser session. Please rerun this cell to enable.\n",
              "      </output>\n",
              "      <script>// Copyright 2017 Google LLC\n",
              "//\n",
              "// Licensed under the Apache License, Version 2.0 (the \"License\");\n",
              "// you may not use this file except in compliance with the License.\n",
              "// You may obtain a copy of the License at\n",
              "//\n",
              "//      http://www.apache.org/licenses/LICENSE-2.0\n",
              "//\n",
              "// Unless required by applicable law or agreed to in writing, software\n",
              "// distributed under the License is distributed on an \"AS IS\" BASIS,\n",
              "// WITHOUT WARRANTIES OR CONDITIONS OF ANY KIND, either express or implied.\n",
              "// See the License for the specific language governing permissions and\n",
              "// limitations under the License.\n",
              "\n",
              "/**\n",
              " * @fileoverview Helpers for google.colab Python module.\n",
              " */\n",
              "(function(scope) {\n",
              "function span(text, styleAttributes = {}) {\n",
              "  const element = document.createElement('span');\n",
              "  element.textContent = text;\n",
              "  for (const key of Object.keys(styleAttributes)) {\n",
              "    element.style[key] = styleAttributes[key];\n",
              "  }\n",
              "  return element;\n",
              "}\n",
              "\n",
              "// Max number of bytes which will be uploaded at a time.\n",
              "const MAX_PAYLOAD_SIZE = 100 * 1024;\n",
              "\n",
              "function _uploadFiles(inputId, outputId) {\n",
              "  const steps = uploadFilesStep(inputId, outputId);\n",
              "  const outputElement = document.getElementById(outputId);\n",
              "  // Cache steps on the outputElement to make it available for the next call\n",
              "  // to uploadFilesContinue from Python.\n",
              "  outputElement.steps = steps;\n",
              "\n",
              "  return _uploadFilesContinue(outputId);\n",
              "}\n",
              "\n",
              "// This is roughly an async generator (not supported in the browser yet),\n",
              "// where there are multiple asynchronous steps and the Python side is going\n",
              "// to poll for completion of each step.\n",
              "// This uses a Promise to block the python side on completion of each step,\n",
              "// then passes the result of the previous step as the input to the next step.\n",
              "function _uploadFilesContinue(outputId) {\n",
              "  const outputElement = document.getElementById(outputId);\n",
              "  const steps = outputElement.steps;\n",
              "\n",
              "  const next = steps.next(outputElement.lastPromiseValue);\n",
              "  return Promise.resolve(next.value.promise).then((value) => {\n",
              "    // Cache the last promise value to make it available to the next\n",
              "    // step of the generator.\n",
              "    outputElement.lastPromiseValue = value;\n",
              "    return next.value.response;\n",
              "  });\n",
              "}\n",
              "\n",
              "/**\n",
              " * Generator function which is called between each async step of the upload\n",
              " * process.\n",
              " * @param {string} inputId Element ID of the input file picker element.\n",
              " * @param {string} outputId Element ID of the output display.\n",
              " * @return {!Iterable<!Object>} Iterable of next steps.\n",
              " */\n",
              "function* uploadFilesStep(inputId, outputId) {\n",
              "  const inputElement = document.getElementById(inputId);\n",
              "  inputElement.disabled = false;\n",
              "\n",
              "  const outputElement = document.getElementById(outputId);\n",
              "  outputElement.innerHTML = '';\n",
              "\n",
              "  const pickedPromise = new Promise((resolve) => {\n",
              "    inputElement.addEventListener('change', (e) => {\n",
              "      resolve(e.target.files);\n",
              "    });\n",
              "  });\n",
              "\n",
              "  const cancel = document.createElement('button');\n",
              "  inputElement.parentElement.appendChild(cancel);\n",
              "  cancel.textContent = 'Cancel upload';\n",
              "  const cancelPromise = new Promise((resolve) => {\n",
              "    cancel.onclick = () => {\n",
              "      resolve(null);\n",
              "    };\n",
              "  });\n",
              "\n",
              "  // Wait for the user to pick the files.\n",
              "  const files = yield {\n",
              "    promise: Promise.race([pickedPromise, cancelPromise]),\n",
              "    response: {\n",
              "      action: 'starting',\n",
              "    }\n",
              "  };\n",
              "\n",
              "  cancel.remove();\n",
              "\n",
              "  // Disable the input element since further picks are not allowed.\n",
              "  inputElement.disabled = true;\n",
              "\n",
              "  if (!files) {\n",
              "    return {\n",
              "      response: {\n",
              "        action: 'complete',\n",
              "      }\n",
              "    };\n",
              "  }\n",
              "\n",
              "  for (const file of files) {\n",
              "    const li = document.createElement('li');\n",
              "    li.append(span(file.name, {fontWeight: 'bold'}));\n",
              "    li.append(span(\n",
              "        `(${file.type || 'n/a'}) - ${file.size} bytes, ` +\n",
              "        `last modified: ${\n",
              "            file.lastModifiedDate ? file.lastModifiedDate.toLocaleDateString() :\n",
              "                                    'n/a'} - `));\n",
              "    const percent = span('0% done');\n",
              "    li.appendChild(percent);\n",
              "\n",
              "    outputElement.appendChild(li);\n",
              "\n",
              "    const fileDataPromise = new Promise((resolve) => {\n",
              "      const reader = new FileReader();\n",
              "      reader.onload = (e) => {\n",
              "        resolve(e.target.result);\n",
              "      };\n",
              "      reader.readAsArrayBuffer(file);\n",
              "    });\n",
              "    // Wait for the data to be ready.\n",
              "    let fileData = yield {\n",
              "      promise: fileDataPromise,\n",
              "      response: {\n",
              "        action: 'continue',\n",
              "      }\n",
              "    };\n",
              "\n",
              "    // Use a chunked sending to avoid message size limits. See b/62115660.\n",
              "    let position = 0;\n",
              "    do {\n",
              "      const length = Math.min(fileData.byteLength - position, MAX_PAYLOAD_SIZE);\n",
              "      const chunk = new Uint8Array(fileData, position, length);\n",
              "      position += length;\n",
              "\n",
              "      const base64 = btoa(String.fromCharCode.apply(null, chunk));\n",
              "      yield {\n",
              "        response: {\n",
              "          action: 'append',\n",
              "          file: file.name,\n",
              "          data: base64,\n",
              "        },\n",
              "      };\n",
              "\n",
              "      let percentDone = fileData.byteLength === 0 ?\n",
              "          100 :\n",
              "          Math.round((position / fileData.byteLength) * 100);\n",
              "      percent.textContent = `${percentDone}% done`;\n",
              "\n",
              "    } while (position < fileData.byteLength);\n",
              "  }\n",
              "\n",
              "  // All done.\n",
              "  yield {\n",
              "    response: {\n",
              "      action: 'complete',\n",
              "    }\n",
              "  };\n",
              "}\n",
              "\n",
              "scope.google = scope.google || {};\n",
              "scope.google.colab = scope.google.colab || {};\n",
              "scope.google.colab._files = {\n",
              "  _uploadFiles,\n",
              "  _uploadFilesContinue,\n",
              "};\n",
              "})(self);\n",
              "</script> "
            ],
            "text/plain": [
              "<IPython.core.display.HTML object>"
            ]
          },
          "metadata": {},
          "output_type": "display_data"
        },
        {
          "name": "stdout",
          "output_type": "stream",
          "text": [
            "Saving kaggle.json to kaggle.json\n"
          ]
        },
        {
          "data": {
            "text/plain": [
              "{'kaggle.json': b'{\"username\":\"niranjayajayan\",\"key\":\"ed491890db83fecfe1aed96ff1fcb453\"}'}"
            ]
          },
          "execution_count": 2,
          "metadata": {},
          "output_type": "execute_result"
        }
      ],
      "source": [
        "from google.colab import files\n",
        "files.upload()"
      ]
    },
    {
      "cell_type": "code",
      "execution_count": null,
      "metadata": {
        "colab": {
          "base_uri": "https://localhost:8080/"
        },
        "id": "8AF5RLypY3yb",
        "outputId": "4f1f71b2-40b8-4f0f-a0c8-7cc80a5da11c"
      },
      "outputs": [
        {
          "name": "stdout",
          "output_type": "stream",
          "text": [
            "Dataset URL: https://www.kaggle.com/datasets/rahulvyasm/netflix-movies-and-tv-shows\n",
            "Downloading netflix-movies-and-tv-shows.zip to ./netflix-movies-and-tv-shows\n"
          ]
        },
        {
          "name": "stderr",
          "output_type": "stream",
          "text": [
            "100%|██████████| 1.35M/1.35M [00:00<00:00, 138MB/s]"
          ]
        },
        {
          "name": "stdout",
          "output_type": "stream",
          "text": [
            "\n"
          ]
        },
        {
          "name": "stderr",
          "output_type": "stream",
          "text": [
            "\n"
          ]
        }
      ],
      "source": [
        "import opendatasets as od\n",
        "import pandas\n",
        "\n",
        "od.download(\"https://www.kaggle.com/datasets/rahulvyasm/netflix-movies-and-tv-shows\")"
      ]
    },
    {
      "cell_type": "markdown",
      "metadata": {
        "id": "HvJ1a8kZZCjd"
      },
      "source": [
        "# 3. Viewing The Data"
      ]
    },
    {
      "cell_type": "code",
      "execution_count": 25,
      "metadata": {
        "id": "6CQ88d7kZAmh"
      },
      "outputs": [],
      "source": [
        "import pandas as pd"
      ]
    },
    {
      "cell_type": "code",
      "execution_count": null,
      "metadata": {
        "id": "PuwoD1GjZGwJ"
      },
      "outputs": [],
      "source": [
        "df = pd.read_csv(\"/content/netflix-movies-and-tv-shows/netflix_titles.csv\")"
      ]
    },
    {
      "cell_type": "code",
      "execution_count": 29,
      "metadata": {
        "colab": {
          "base_uri": "https://localhost:8080/",
          "height": 654
        },
        "id": "8SmHX91uZRXY",
        "outputId": "9a0f6faf-ed39-442e-dc54-e062133af98e"
      },
      "outputs": [
        {
          "data": {
            "application/vnd.google.colaboratory.intrinsic+json": {
              "type": "dataframe",
              "variable_name": "df"
            },
            "text/html": [
              "\n",
              "  <div id=\"df-d0078a13-d655-4594-abe5-c49b0860bff8\" class=\"colab-df-container\">\n",
              "    <div>\n",
              "<style scoped>\n",
              "    .dataframe tbody tr th:only-of-type {\n",
              "        vertical-align: middle;\n",
              "    }\n",
              "\n",
              "    .dataframe tbody tr th {\n",
              "        vertical-align: top;\n",
              "    }\n",
              "\n",
              "    .dataframe thead th {\n",
              "        text-align: right;\n",
              "    }\n",
              "</style>\n",
              "<table border=\"1\" class=\"dataframe\">\n",
              "  <thead>\n",
              "    <tr style=\"text-align: right;\">\n",
              "      <th></th>\n",
              "      <th>show_id</th>\n",
              "      <th>type</th>\n",
              "      <th>title</th>\n",
              "      <th>director</th>\n",
              "      <th>cast</th>\n",
              "      <th>country</th>\n",
              "      <th>date_added</th>\n",
              "      <th>release_year</th>\n",
              "      <th>rating</th>\n",
              "      <th>duration</th>\n",
              "      <th>...</th>\n",
              "      <th>Unnamed: 16</th>\n",
              "      <th>Unnamed: 17</th>\n",
              "      <th>Unnamed: 18</th>\n",
              "      <th>Unnamed: 19</th>\n",
              "      <th>Unnamed: 20</th>\n",
              "      <th>Unnamed: 21</th>\n",
              "      <th>Unnamed: 22</th>\n",
              "      <th>Unnamed: 23</th>\n",
              "      <th>Unnamed: 24</th>\n",
              "      <th>Unnamed: 25</th>\n",
              "    </tr>\n",
              "  </thead>\n",
              "  <tbody>\n",
              "    <tr>\n",
              "      <th>0</th>\n",
              "      <td>s1</td>\n",
              "      <td>Movie</td>\n",
              "      <td>Dick Johnson Is Dead</td>\n",
              "      <td>Kirsten Johnson</td>\n",
              "      <td>NaN</td>\n",
              "      <td>United States</td>\n",
              "      <td>September 25, 2021</td>\n",
              "      <td>2020</td>\n",
              "      <td>PG-13</td>\n",
              "      <td>90 min</td>\n",
              "      <td>...</td>\n",
              "      <td>NaN</td>\n",
              "      <td>NaN</td>\n",
              "      <td>NaN</td>\n",
              "      <td>NaN</td>\n",
              "      <td>NaN</td>\n",
              "      <td>NaN</td>\n",
              "      <td>NaN</td>\n",
              "      <td>NaN</td>\n",
              "      <td>NaN</td>\n",
              "      <td>NaN</td>\n",
              "    </tr>\n",
              "    <tr>\n",
              "      <th>1</th>\n",
              "      <td>s2</td>\n",
              "      <td>TV Show</td>\n",
              "      <td>Blood &amp; Water</td>\n",
              "      <td>NaN</td>\n",
              "      <td>Ama Qamata, Khosi Ngema, Gail Mabalane, Thaban...</td>\n",
              "      <td>South Africa</td>\n",
              "      <td>September 24, 2021</td>\n",
              "      <td>2021</td>\n",
              "      <td>TV-MA</td>\n",
              "      <td>2 Seasons</td>\n",
              "      <td>...</td>\n",
              "      <td>NaN</td>\n",
              "      <td>NaN</td>\n",
              "      <td>NaN</td>\n",
              "      <td>NaN</td>\n",
              "      <td>NaN</td>\n",
              "      <td>NaN</td>\n",
              "      <td>NaN</td>\n",
              "      <td>NaN</td>\n",
              "      <td>NaN</td>\n",
              "      <td>NaN</td>\n",
              "    </tr>\n",
              "    <tr>\n",
              "      <th>2</th>\n",
              "      <td>s3</td>\n",
              "      <td>TV Show</td>\n",
              "      <td>Ganglands</td>\n",
              "      <td>Julien Leclercq</td>\n",
              "      <td>Sami Bouajila, Tracy Gotoas, Samuel Jouy, Nabi...</td>\n",
              "      <td>NaN</td>\n",
              "      <td>September 24, 2021</td>\n",
              "      <td>2021</td>\n",
              "      <td>TV-MA</td>\n",
              "      <td>1 Season</td>\n",
              "      <td>...</td>\n",
              "      <td>NaN</td>\n",
              "      <td>NaN</td>\n",
              "      <td>NaN</td>\n",
              "      <td>NaN</td>\n",
              "      <td>NaN</td>\n",
              "      <td>NaN</td>\n",
              "      <td>NaN</td>\n",
              "      <td>NaN</td>\n",
              "      <td>NaN</td>\n",
              "      <td>NaN</td>\n",
              "    </tr>\n",
              "    <tr>\n",
              "      <th>3</th>\n",
              "      <td>s4</td>\n",
              "      <td>TV Show</td>\n",
              "      <td>Jailbirds New Orleans</td>\n",
              "      <td>NaN</td>\n",
              "      <td>NaN</td>\n",
              "      <td>NaN</td>\n",
              "      <td>September 24, 2021</td>\n",
              "      <td>2021</td>\n",
              "      <td>TV-MA</td>\n",
              "      <td>1 Season</td>\n",
              "      <td>...</td>\n",
              "      <td>NaN</td>\n",
              "      <td>NaN</td>\n",
              "      <td>NaN</td>\n",
              "      <td>NaN</td>\n",
              "      <td>NaN</td>\n",
              "      <td>NaN</td>\n",
              "      <td>NaN</td>\n",
              "      <td>NaN</td>\n",
              "      <td>NaN</td>\n",
              "      <td>NaN</td>\n",
              "    </tr>\n",
              "    <tr>\n",
              "      <th>4</th>\n",
              "      <td>s5</td>\n",
              "      <td>TV Show</td>\n",
              "      <td>Kota Factory</td>\n",
              "      <td>NaN</td>\n",
              "      <td>Mayur More, Jitendra Kumar, Ranjan Raj, Alam K...</td>\n",
              "      <td>India</td>\n",
              "      <td>September 24, 2021</td>\n",
              "      <td>2021</td>\n",
              "      <td>TV-MA</td>\n",
              "      <td>2 Seasons</td>\n",
              "      <td>...</td>\n",
              "      <td>NaN</td>\n",
              "      <td>NaN</td>\n",
              "      <td>NaN</td>\n",
              "      <td>NaN</td>\n",
              "      <td>NaN</td>\n",
              "      <td>NaN</td>\n",
              "      <td>NaN</td>\n",
              "      <td>NaN</td>\n",
              "      <td>NaN</td>\n",
              "      <td>NaN</td>\n",
              "    </tr>\n",
              "  </tbody>\n",
              "</table>\n",
              "<p>5 rows × 26 columns</p>\n",
              "</div>\n",
              "    <div class=\"colab-df-buttons\">\n",
              "\n",
              "  <div class=\"colab-df-container\">\n",
              "    <button class=\"colab-df-convert\" onclick=\"convertToInteractive('df-d0078a13-d655-4594-abe5-c49b0860bff8')\"\n",
              "            title=\"Convert this dataframe to an interactive table.\"\n",
              "            style=\"display:none;\">\n",
              "\n",
              "  <svg xmlns=\"http://www.w3.org/2000/svg\" height=\"24px\" viewBox=\"0 -960 960 960\">\n",
              "    <path d=\"M120-120v-720h720v720H120Zm60-500h600v-160H180v160Zm220 220h160v-160H400v160Zm0 220h160v-160H400v160ZM180-400h160v-160H180v160Zm440 0h160v-160H620v160ZM180-180h160v-160H180v160Zm440 0h160v-160H620v160Z\"/>\n",
              "  </svg>\n",
              "    </button>\n",
              "\n",
              "  <style>\n",
              "    .colab-df-container {\n",
              "      display:flex;\n",
              "      gap: 12px;\n",
              "    }\n",
              "\n",
              "    .colab-df-convert {\n",
              "      background-color: #E8F0FE;\n",
              "      border: none;\n",
              "      border-radius: 50%;\n",
              "      cursor: pointer;\n",
              "      display: none;\n",
              "      fill: #1967D2;\n",
              "      height: 32px;\n",
              "      padding: 0 0 0 0;\n",
              "      width: 32px;\n",
              "    }\n",
              "\n",
              "    .colab-df-convert:hover {\n",
              "      background-color: #E2EBFA;\n",
              "      box-shadow: 0px 1px 2px rgba(60, 64, 67, 0.3), 0px 1px 3px 1px rgba(60, 64, 67, 0.15);\n",
              "      fill: #174EA6;\n",
              "    }\n",
              "\n",
              "    .colab-df-buttons div {\n",
              "      margin-bottom: 4px;\n",
              "    }\n",
              "\n",
              "    [theme=dark] .colab-df-convert {\n",
              "      background-color: #3B4455;\n",
              "      fill: #D2E3FC;\n",
              "    }\n",
              "\n",
              "    [theme=dark] .colab-df-convert:hover {\n",
              "      background-color: #434B5C;\n",
              "      box-shadow: 0px 1px 3px 1px rgba(0, 0, 0, 0.15);\n",
              "      filter: drop-shadow(0px 1px 2px rgba(0, 0, 0, 0.3));\n",
              "      fill: #FFFFFF;\n",
              "    }\n",
              "  </style>\n",
              "\n",
              "    <script>\n",
              "      const buttonEl =\n",
              "        document.querySelector('#df-d0078a13-d655-4594-abe5-c49b0860bff8 button.colab-df-convert');\n",
              "      buttonEl.style.display =\n",
              "        google.colab.kernel.accessAllowed ? 'block' : 'none';\n",
              "\n",
              "      async function convertToInteractive(key) {\n",
              "        const element = document.querySelector('#df-d0078a13-d655-4594-abe5-c49b0860bff8');\n",
              "        const dataTable =\n",
              "          await google.colab.kernel.invokeFunction('convertToInteractive',\n",
              "                                                    [key], {});\n",
              "        if (!dataTable) return;\n",
              "\n",
              "        const docLinkHtml = 'Like what you see? Visit the ' +\n",
              "          '<a target=\"_blank\" href=https://colab.research.google.com/notebooks/data_table.ipynb>data table notebook</a>'\n",
              "          + ' to learn more about interactive tables.';\n",
              "        element.innerHTML = '';\n",
              "        dataTable['output_type'] = 'display_data';\n",
              "        await google.colab.output.renderOutput(dataTable, element);\n",
              "        const docLink = document.createElement('div');\n",
              "        docLink.innerHTML = docLinkHtml;\n",
              "        element.appendChild(docLink);\n",
              "      }\n",
              "    </script>\n",
              "  </div>\n",
              "\n",
              "\n",
              "<div id=\"df-7c58e429-2205-4f85-b2fb-2f4699074f1d\">\n",
              "  <button class=\"colab-df-quickchart\" onclick=\"quickchart('df-7c58e429-2205-4f85-b2fb-2f4699074f1d')\"\n",
              "            title=\"Suggest charts\"\n",
              "            style=\"display:none;\">\n",
              "\n",
              "<svg xmlns=\"http://www.w3.org/2000/svg\" height=\"24px\"viewBox=\"0 0 24 24\"\n",
              "     width=\"24px\">\n",
              "    <g>\n",
              "        <path d=\"M19 3H5c-1.1 0-2 .9-2 2v14c0 1.1.9 2 2 2h14c1.1 0 2-.9 2-2V5c0-1.1-.9-2-2-2zM9 17H7v-7h2v7zm4 0h-2V7h2v10zm4 0h-2v-4h2v4z\"/>\n",
              "    </g>\n",
              "</svg>\n",
              "  </button>\n",
              "\n",
              "<style>\n",
              "  .colab-df-quickchart {\n",
              "      --bg-color: #E8F0FE;\n",
              "      --fill-color: #1967D2;\n",
              "      --hover-bg-color: #E2EBFA;\n",
              "      --hover-fill-color: #174EA6;\n",
              "      --disabled-fill-color: #AAA;\n",
              "      --disabled-bg-color: #DDD;\n",
              "  }\n",
              "\n",
              "  [theme=dark] .colab-df-quickchart {\n",
              "      --bg-color: #3B4455;\n",
              "      --fill-color: #D2E3FC;\n",
              "      --hover-bg-color: #434B5C;\n",
              "      --hover-fill-color: #FFFFFF;\n",
              "      --disabled-bg-color: #3B4455;\n",
              "      --disabled-fill-color: #666;\n",
              "  }\n",
              "\n",
              "  .colab-df-quickchart {\n",
              "    background-color: var(--bg-color);\n",
              "    border: none;\n",
              "    border-radius: 50%;\n",
              "    cursor: pointer;\n",
              "    display: none;\n",
              "    fill: var(--fill-color);\n",
              "    height: 32px;\n",
              "    padding: 0;\n",
              "    width: 32px;\n",
              "  }\n",
              "\n",
              "  .colab-df-quickchart:hover {\n",
              "    background-color: var(--hover-bg-color);\n",
              "    box-shadow: 0 1px 2px rgba(60, 64, 67, 0.3), 0 1px 3px 1px rgba(60, 64, 67, 0.15);\n",
              "    fill: var(--button-hover-fill-color);\n",
              "  }\n",
              "\n",
              "  .colab-df-quickchart-complete:disabled,\n",
              "  .colab-df-quickchart-complete:disabled:hover {\n",
              "    background-color: var(--disabled-bg-color);\n",
              "    fill: var(--disabled-fill-color);\n",
              "    box-shadow: none;\n",
              "  }\n",
              "\n",
              "  .colab-df-spinner {\n",
              "    border: 2px solid var(--fill-color);\n",
              "    border-color: transparent;\n",
              "    border-bottom-color: var(--fill-color);\n",
              "    animation:\n",
              "      spin 1s steps(1) infinite;\n",
              "  }\n",
              "\n",
              "  @keyframes spin {\n",
              "    0% {\n",
              "      border-color: transparent;\n",
              "      border-bottom-color: var(--fill-color);\n",
              "      border-left-color: var(--fill-color);\n",
              "    }\n",
              "    20% {\n",
              "      border-color: transparent;\n",
              "      border-left-color: var(--fill-color);\n",
              "      border-top-color: var(--fill-color);\n",
              "    }\n",
              "    30% {\n",
              "      border-color: transparent;\n",
              "      border-left-color: var(--fill-color);\n",
              "      border-top-color: var(--fill-color);\n",
              "      border-right-color: var(--fill-color);\n",
              "    }\n",
              "    40% {\n",
              "      border-color: transparent;\n",
              "      border-right-color: var(--fill-color);\n",
              "      border-top-color: var(--fill-color);\n",
              "    }\n",
              "    60% {\n",
              "      border-color: transparent;\n",
              "      border-right-color: var(--fill-color);\n",
              "    }\n",
              "    80% {\n",
              "      border-color: transparent;\n",
              "      border-right-color: var(--fill-color);\n",
              "      border-bottom-color: var(--fill-color);\n",
              "    }\n",
              "    90% {\n",
              "      border-color: transparent;\n",
              "      border-bottom-color: var(--fill-color);\n",
              "    }\n",
              "  }\n",
              "</style>\n",
              "\n",
              "  <script>\n",
              "    async function quickchart(key) {\n",
              "      const quickchartButtonEl =\n",
              "        document.querySelector('#' + key + ' button');\n",
              "      quickchartButtonEl.disabled = true;  // To prevent multiple clicks.\n",
              "      quickchartButtonEl.classList.add('colab-df-spinner');\n",
              "      try {\n",
              "        const charts = await google.colab.kernel.invokeFunction(\n",
              "            'suggestCharts', [key], {});\n",
              "      } catch (error) {\n",
              "        console.error('Error during call to suggestCharts:', error);\n",
              "      }\n",
              "      quickchartButtonEl.classList.remove('colab-df-spinner');\n",
              "      quickchartButtonEl.classList.add('colab-df-quickchart-complete');\n",
              "    }\n",
              "    (() => {\n",
              "      let quickchartButtonEl =\n",
              "        document.querySelector('#df-7c58e429-2205-4f85-b2fb-2f4699074f1d button');\n",
              "      quickchartButtonEl.style.display =\n",
              "        google.colab.kernel.accessAllowed ? 'block' : 'none';\n",
              "    })();\n",
              "  </script>\n",
              "</div>\n",
              "\n",
              "    </div>\n",
              "  </div>\n"
            ],
            "text/plain": [
              "  show_id     type                  title         director  \\\n",
              "0      s1    Movie   Dick Johnson Is Dead  Kirsten Johnson   \n",
              "1      s2  TV Show          Blood & Water              NaN   \n",
              "2      s3  TV Show              Ganglands  Julien Leclercq   \n",
              "3      s4  TV Show  Jailbirds New Orleans              NaN   \n",
              "4      s5  TV Show           Kota Factory              NaN   \n",
              "\n",
              "                                                cast        country  \\\n",
              "0                                                NaN  United States   \n",
              "1  Ama Qamata, Khosi Ngema, Gail Mabalane, Thaban...   South Africa   \n",
              "2  Sami Bouajila, Tracy Gotoas, Samuel Jouy, Nabi...            NaN   \n",
              "3                                                NaN            NaN   \n",
              "4  Mayur More, Jitendra Kumar, Ranjan Raj, Alam K...          India   \n",
              "\n",
              "           date_added  release_year rating   duration  ... Unnamed: 16  \\\n",
              "0  September 25, 2021          2020  PG-13     90 min  ...         NaN   \n",
              "1  September 24, 2021          2021  TV-MA  2 Seasons  ...         NaN   \n",
              "2  September 24, 2021          2021  TV-MA   1 Season  ...         NaN   \n",
              "3  September 24, 2021          2021  TV-MA   1 Season  ...         NaN   \n",
              "4  September 24, 2021          2021  TV-MA  2 Seasons  ...         NaN   \n",
              "\n",
              "  Unnamed: 17  Unnamed: 18  Unnamed: 19  Unnamed: 20  Unnamed: 21  \\\n",
              "0         NaN          NaN          NaN          NaN          NaN   \n",
              "1         NaN          NaN          NaN          NaN          NaN   \n",
              "2         NaN          NaN          NaN          NaN          NaN   \n",
              "3         NaN          NaN          NaN          NaN          NaN   \n",
              "4         NaN          NaN          NaN          NaN          NaN   \n",
              "\n",
              "   Unnamed: 22  Unnamed: 23  Unnamed: 24  Unnamed: 25  \n",
              "0          NaN          NaN          NaN          NaN  \n",
              "1          NaN          NaN          NaN          NaN  \n",
              "2          NaN          NaN          NaN          NaN  \n",
              "3          NaN          NaN          NaN          NaN  \n",
              "4          NaN          NaN          NaN          NaN  \n",
              "\n",
              "[5 rows x 26 columns]"
            ]
          },
          "execution_count": 29,
          "metadata": {},
          "output_type": "execute_result"
        }
      ],
      "source": [
        "df.head()"
      ]
    },
    {
      "cell_type": "markdown",
      "metadata": {
        "id": "XK96lmzCB7ie"
      },
      "source": [
        "# 4. Cleaning The Dataset"
      ]
    },
    {
      "cell_type": "code",
      "execution_count": 30,
      "metadata": {
        "colab": {
          "base_uri": "https://localhost:8080/"
        },
        "id": "K9wJpfoZHCrH",
        "outputId": "bfd787f9-e010-49d7-a294-402c97f88b05"
      },
      "outputs": [
        {
          "name": "stdout",
          "output_type": "stream",
          "text": [
            "Index(['show_id', 'type', 'title', 'director', 'cast', 'country', 'date_added',\n",
            "       'release_year', 'rating', 'duration', 'listed_in', 'description',\n",
            "       'Unnamed: 12', 'Unnamed: 13', 'Unnamed: 14', 'Unnamed: 15',\n",
            "       'Unnamed: 16', 'Unnamed: 17', 'Unnamed: 18', 'Unnamed: 19',\n",
            "       'Unnamed: 20', 'Unnamed: 21', 'Unnamed: 22', 'Unnamed: 23',\n",
            "       'Unnamed: 24', 'Unnamed: 25'],\n",
            "      dtype='object')\n"
          ]
        }
      ],
      "source": [
        "columns = df.columns\n",
        "print(columns)"
      ]
    },
    {
      "cell_type": "markdown",
      "metadata": {
        "id": "H7uV8pyxBHaZ"
      },
      "source": [
        "Cleaning unwanted columns"
      ]
    },
    {
      "cell_type": "code",
      "execution_count": 31,
      "metadata": {
        "id": "fLiEuynRAuC2"
      },
      "outputs": [],
      "source": [
        "dropColumns = ['Unnamed: 12', 'Unnamed: 13', 'Unnamed: 14', 'Unnamed: 15',\n",
        "       'Unnamed: 16', 'Unnamed: 17', 'Unnamed: 18', 'Unnamed: 19',\n",
        "       'Unnamed: 20', 'Unnamed: 21', 'Unnamed: 22', 'Unnamed: 23',\n",
        "       'Unnamed: 24', 'Unnamed: 25']\n",
        "\n",
        "for column in dropColumns:\n",
        "  df.drop(column, axis = 1, inplace = True)"
      ]
    },
    {
      "cell_type": "code",
      "execution_count": 32,
      "metadata": {
        "colab": {
          "base_uri": "https://localhost:8080/"
        },
        "id": "TFXdNmmsA6cQ",
        "outputId": "4ad95a8d-0648-4e33-f823-b81d252bfa4e"
      },
      "outputs": [
        {
          "name": "stdout",
          "output_type": "stream",
          "text": [
            "Index(['show_id', 'type', 'title', 'director', 'cast', 'country', 'date_added',\n",
            "       'release_year', 'rating', 'duration', 'listed_in', 'description'],\n",
            "      dtype='object')\n"
          ]
        }
      ],
      "source": [
        "columns = df.columns\n",
        "print(columns)"
      ]
    },
    {
      "cell_type": "code",
      "execution_count": 33,
      "metadata": {
        "colab": {
          "base_uri": "https://localhost:8080/",
          "height": 460
        },
        "id": "rIEhhDGqBMWZ",
        "outputId": "1e475459-a555-4087-8b8e-1c9da2884d7a"
      },
      "outputs": [
        {
          "data": {
            "text/html": [
              "<div>\n",
              "<style scoped>\n",
              "    .dataframe tbody tr th:only-of-type {\n",
              "        vertical-align: middle;\n",
              "    }\n",
              "\n",
              "    .dataframe tbody tr th {\n",
              "        vertical-align: top;\n",
              "    }\n",
              "\n",
              "    .dataframe thead th {\n",
              "        text-align: right;\n",
              "    }\n",
              "</style>\n",
              "<table border=\"1\" class=\"dataframe\">\n",
              "  <thead>\n",
              "    <tr style=\"text-align: right;\">\n",
              "      <th></th>\n",
              "      <th>0</th>\n",
              "    </tr>\n",
              "  </thead>\n",
              "  <tbody>\n",
              "    <tr>\n",
              "      <th>show_id</th>\n",
              "      <td>0</td>\n",
              "    </tr>\n",
              "    <tr>\n",
              "      <th>type</th>\n",
              "      <td>0</td>\n",
              "    </tr>\n",
              "    <tr>\n",
              "      <th>title</th>\n",
              "      <td>0</td>\n",
              "    </tr>\n",
              "    <tr>\n",
              "      <th>director</th>\n",
              "      <td>2634</td>\n",
              "    </tr>\n",
              "    <tr>\n",
              "      <th>cast</th>\n",
              "      <td>825</td>\n",
              "    </tr>\n",
              "    <tr>\n",
              "      <th>country</th>\n",
              "      <td>831</td>\n",
              "    </tr>\n",
              "    <tr>\n",
              "      <th>date_added</th>\n",
              "      <td>10</td>\n",
              "    </tr>\n",
              "    <tr>\n",
              "      <th>release_year</th>\n",
              "      <td>0</td>\n",
              "    </tr>\n",
              "    <tr>\n",
              "      <th>rating</th>\n",
              "      <td>4</td>\n",
              "    </tr>\n",
              "    <tr>\n",
              "      <th>duration</th>\n",
              "      <td>3</td>\n",
              "    </tr>\n",
              "    <tr>\n",
              "      <th>listed_in</th>\n",
              "      <td>0</td>\n",
              "    </tr>\n",
              "    <tr>\n",
              "      <th>description</th>\n",
              "      <td>0</td>\n",
              "    </tr>\n",
              "  </tbody>\n",
              "</table>\n",
              "</div><br><label><b>dtype:</b> int64</label>"
            ],
            "text/plain": [
              "show_id            0\n",
              "type               0\n",
              "title              0\n",
              "director        2634\n",
              "cast             825\n",
              "country          831\n",
              "date_added        10\n",
              "release_year       0\n",
              "rating             4\n",
              "duration           3\n",
              "listed_in          0\n",
              "description        0\n",
              "dtype: int64"
            ]
          },
          "execution_count": 33,
          "metadata": {},
          "output_type": "execute_result"
        }
      ],
      "source": [
        "df.isnull().sum()"
      ]
    },
    {
      "cell_type": "code",
      "execution_count": 36,
      "metadata": {
        "colab": {
          "base_uri": "https://localhost:8080/"
        },
        "id": "l65v9M3AZuBr",
        "outputId": "d182a26a-8be7-4c48-d2d0-757c2468ac24"
      },
      "outputs": [
        {
          "data": {
            "text/plain": [
              "0"
            ]
          },
          "execution_count": 36,
          "metadata": {},
          "output_type": "execute_result"
        }
      ],
      "source": [
        "df.duplicated().sum()"
      ]
    },
    {
      "cell_type": "markdown",
      "metadata": {
        "id": "Br3AX5GHZwQ6"
      },
      "source": [
        "No duplicate entries in the dataset."
      ]
    },
    {
      "cell_type": "code",
      "execution_count": null,
      "metadata": {
        "id": "q1TYeB9yZzml"
      },
      "outputs": [],
      "source": [
        "def cleaning():\n",
        "    # Filling not available Data as N/A\n",
        "    df.fillna(\"N/A\", inplace=True)\n",
        "\n",
        "    #Dealing With Dates\n",
        "    # df[\"date_added\"] = pd.to_datetime(df[\"date_added\"], errors=\"coerce\")\n",
        "    # df[\"release_year\"] = pd.to_datetime(df[\"release_year\"], errors=\"coerce\")\n",
        "    # df[\"release_year\"] = df[\"release_year\"].dt.year\n",
        "\n",
        "cleaning()"
      ]
    },
    {
      "cell_type": "markdown",
      "metadata": {
        "id": "rCLBsglQBm98"
      },
      "source": [
        "# 5. Saving the Dataset"
      ]
    },
    {
      "cell_type": "code",
      "execution_count": null,
      "metadata": {
        "id": "8xiUVVglBTrL"
      },
      "outputs": [],
      "source": [
        "df.to_csv(\"netflix_titles_preprocessed (3).csv\", index = False)"
      ]
    },
    {
      "cell_type": "code",
      "execution_count": 34,
      "metadata": {
        "colab": {
          "base_uri": "https://localhost:8080/",
          "height": 460
        },
        "id": "242v5ac7e1Pt",
        "outputId": "b8763966-b90c-49f3-e343-ef21db26faba"
      },
      "outputs": [
        {
          "data": {
            "text/html": [
              "<div>\n",
              "<style scoped>\n",
              "    .dataframe tbody tr th:only-of-type {\n",
              "        vertical-align: middle;\n",
              "    }\n",
              "\n",
              "    .dataframe tbody tr th {\n",
              "        vertical-align: top;\n",
              "    }\n",
              "\n",
              "    .dataframe thead th {\n",
              "        text-align: right;\n",
              "    }\n",
              "</style>\n",
              "<table border=\"1\" class=\"dataframe\">\n",
              "  <thead>\n",
              "    <tr style=\"text-align: right;\">\n",
              "      <th></th>\n",
              "      <th>0</th>\n",
              "    </tr>\n",
              "  </thead>\n",
              "  <tbody>\n",
              "    <tr>\n",
              "      <th>show_id</th>\n",
              "      <td>object</td>\n",
              "    </tr>\n",
              "    <tr>\n",
              "      <th>type</th>\n",
              "      <td>object</td>\n",
              "    </tr>\n",
              "    <tr>\n",
              "      <th>title</th>\n",
              "      <td>object</td>\n",
              "    </tr>\n",
              "    <tr>\n",
              "      <th>director</th>\n",
              "      <td>object</td>\n",
              "    </tr>\n",
              "    <tr>\n",
              "      <th>cast</th>\n",
              "      <td>object</td>\n",
              "    </tr>\n",
              "    <tr>\n",
              "      <th>country</th>\n",
              "      <td>object</td>\n",
              "    </tr>\n",
              "    <tr>\n",
              "      <th>date_added</th>\n",
              "      <td>object</td>\n",
              "    </tr>\n",
              "    <tr>\n",
              "      <th>release_year</th>\n",
              "      <td>int64</td>\n",
              "    </tr>\n",
              "    <tr>\n",
              "      <th>rating</th>\n",
              "      <td>object</td>\n",
              "    </tr>\n",
              "    <tr>\n",
              "      <th>duration</th>\n",
              "      <td>object</td>\n",
              "    </tr>\n",
              "    <tr>\n",
              "      <th>listed_in</th>\n",
              "      <td>object</td>\n",
              "    </tr>\n",
              "    <tr>\n",
              "      <th>description</th>\n",
              "      <td>object</td>\n",
              "    </tr>\n",
              "  </tbody>\n",
              "</table>\n",
              "</div><br><label><b>dtype:</b> object</label>"
            ],
            "text/plain": [
              "show_id         object\n",
              "type            object\n",
              "title           object\n",
              "director        object\n",
              "cast            object\n",
              "country         object\n",
              "date_added      object\n",
              "release_year     int64\n",
              "rating          object\n",
              "duration        object\n",
              "listed_in       object\n",
              "description     object\n",
              "dtype: object"
            ]
          },
          "execution_count": 34,
          "metadata": {},
          "output_type": "execute_result"
        }
      ],
      "source": [
        "df.dtypes"
      ]
    },
    {
      "cell_type": "markdown",
      "metadata": {
        "id": "WXlQu6LPAYVM"
      },
      "source": [
        "# 6. Additional Checks"
      ]
    },
    {
      "cell_type": "code",
      "execution_count": 24,
      "metadata": {
        "colab": {
          "base_uri": "https://localhost:8080/"
        },
        "id": "_5hW1SeZAcS8",
        "outputId": "d436d57c-71a0-4cc3-dcf4-6912f7ef2d6a"
      },
      "outputs": [
        {
          "name": "stdout",
          "output_type": "stream",
          "text": [
            "release_year\n",
            "2018    1147\n",
            "2017    1032\n",
            "2019    1030\n",
            "2020     953\n",
            "2016     902\n",
            "        ... \n",
            "1959       1\n",
            "1925       1\n",
            "1961       1\n",
            "1947       1\n",
            "2024       1\n",
            "Name: count, Length: 75, dtype: int64\n"
          ]
        }
      ],
      "source": [
        "year_counts = df[\"release_year\"].value_counts()\n",
        "print(year_counts)"
      ]
    },
    {
      "cell_type": "code",
      "execution_count": null,
      "metadata": {
        "colab": {
          "base_uri": "https://localhost:8080/"
        },
        "id": "qYA-jkAWe7UJ",
        "outputId": "a987ed50-612e-4f4b-e402-22d1655bb803"
      },
      "outputs": [
        {
          "name": "stdout",
          "output_type": "stream",
          "text": [
            "N/A is present in the dataset.\n",
            "     show_id     type                  title         director  \\\n",
            "0         s1    Movie   Dick Johnson Is Dead  Kirsten Johnson   \n",
            "1         s2  TV Show          Blood & Water              N/A   \n",
            "2         s3  TV Show              Ganglands  Julien Leclercq   \n",
            "3         s4  TV Show  Jailbirds New Orleans              N/A   \n",
            "4         s5  TV Show           Kota Factory              N/A   \n",
            "...      ...      ...                    ...              ...   \n",
            "8802   s8803    Movie                 Zodiac    David Fincher   \n",
            "8803   s8804  TV Show            Zombie Dumb              N/A   \n",
            "8804   s8805    Movie             Zombieland  Ruben Fleischer   \n",
            "8805   s8806    Movie                   Zoom     Peter Hewitt   \n",
            "8806   s8807    Movie                 Zubaan      Mozez Singh   \n",
            "\n",
            "                                                   cast        country  \\\n",
            "0                                                   N/A  United States   \n",
            "1     Ama Qamata, Khosi Ngema, Gail Mabalane, Thaban...   South Africa   \n",
            "2     Sami Bouajila, Tracy Gotoas, Samuel Jouy, Nabi...            N/A   \n",
            "3                                                   N/A            N/A   \n",
            "4     Mayur More, Jitendra Kumar, Ranjan Raj, Alam K...          India   \n",
            "...                                                 ...            ...   \n",
            "8802  Mark Ruffalo, Jake Gyllenhaal, Robert Downey J...  United States   \n",
            "8803                                                N/A            N/A   \n",
            "8804  Jesse Eisenberg, Woody Harrelson, Emma Stone, ...  United States   \n",
            "8805  Tim Allen, Courteney Cox, Chevy Chase, Kate Ma...  United States   \n",
            "8806  Vicky Kaushal, Sarah-Jane Dias, Raaghav Chanan...          India   \n",
            "\n",
            "     date_added  release_year rating   duration  \\\n",
            "0    2021-09-25          1970  PG-13     90 min   \n",
            "1    2021-09-24          1970  TV-MA  2 Seasons   \n",
            "2    2021-09-24          1970  TV-MA   1 Season   \n",
            "3    2021-09-24          1970  TV-MA   1 Season   \n",
            "4    2021-09-24          1970  TV-MA  2 Seasons   \n",
            "...         ...           ...    ...        ...   \n",
            "8802 2019-11-20          1970      R    158 min   \n",
            "8803 2019-07-01          1970  TV-Y7  2 Seasons   \n",
            "8804 2019-11-01          1970      R     88 min   \n",
            "8805 2020-01-11          1970     PG     88 min   \n",
            "8806 2019-03-02          1970  TV-14    111 min   \n",
            "\n",
            "                                              listed_in  \\\n",
            "0                                         Documentaries   \n",
            "1       International TV Shows, TV Dramas, TV Mysteries   \n",
            "2     Crime TV Shows, International TV Shows, TV Act...   \n",
            "3                                Docuseries, Reality TV   \n",
            "4     International TV Shows, Romantic TV Shows, TV ...   \n",
            "...                                                 ...   \n",
            "8802                     Cult Movies, Dramas, Thrillers   \n",
            "8803             Kids' TV, Korean TV Shows, TV Comedies   \n",
            "8804                            Comedies, Horror Movies   \n",
            "8805                 Children & Family Movies, Comedies   \n",
            "8806     Dramas, International Movies, Music & Musicals   \n",
            "\n",
            "                                            description          Publisher  \n",
            "0     As her father nears the end of his life, filmm...                N/A  \n",
            "1     After crossing paths at a party, a Cape Town t...     Nosipho Dumisa  \n",
            "2     To protect his family from a powerful drug lor...                N/A  \n",
            "3     Feuds, flirtations and toilet talk go down amo...  Maggie Gyllenhaal  \n",
            "4     In a city of coaching centers known to train I...       Raghav Subbu  \n",
            "...                                                 ...                ...  \n",
            "8802  A political cartoonist, a crime reporter and a...                N/A  \n",
            "8803  While living alone in a spooky town, a young g...                N/A  \n",
            "8804  Looking to survive in a world taken over by zo...                N/A  \n",
            "8805  Dragged from civilian life, a former superhero...                N/A  \n",
            "8806  A scrappy but poor boy worms his way into a ty...                N/A  \n",
            "\n",
            "[8807 rows x 13 columns]\n"
          ]
        }
      ],
      "source": [
        "na_in_dataset = (df == \"N/A\").any().any()\n",
        "\n",
        "# Alternatively, you can check in specific columns if needed\n",
        "na_in_column = df.isin([\"N/A\"]).any()\n",
        "\n",
        "# Display the result\n",
        "if na_in_dataset:\n",
        "    print(\"N/A is present in the dataset.\")\n",
        "else:\n",
        "    print(\"N/A is not present in the dataset.\")\n",
        "\n",
        "\n",
        "# Display rows where 'N/A' is present in any column\n",
        "na_rows = df[df.isin([\"N/A\"]).any(axis=1)]\n",
        "\n",
        "# Show the rows\n",
        "print(na_rows)\n"
      ]
    },
    {
      "cell_type": "code",
      "execution_count": null,
      "metadata": {
        "colab": {
          "base_uri": "https://localhost:8080/"
        },
        "id": "6e13csIDfHWK",
        "outputId": "50172ed6-8099-48bc-b7bc-86947ae58cf6"
      },
      "outputs": [
        {
          "data": {
            "text/plain": [
              "array([2020, 2021, 1993, 2018, 1996, 1998, 1997, 2010, 2013, 2017, 1975,\n",
              "       1978, 1983, 1987, 2012, 2001, 2014, 2002, 2003, 2004, 2011, 2008,\n",
              "       2009, 2007, 2005, 2006, 1994, 2015, 2019, 2016, 1982, 1989, 1990,\n",
              "       1991, 1999, 1986, 1992, 1984, 1980, 1961, 2000, 1995, 1985, 1976,\n",
              "       1959, 1988, 1981, 1972, 1964, 1945, 1954, 1979, 1958, 1956, 1963,\n",
              "       1970, 1973, 1925, 1974, 1960, 1966, 1971, 1962, 1969, 1977, 1967,\n",
              "       1968, 1965, 1946, 1942, 1955, 1944, 1947, 1943, 2024])"
            ]
          },
          "execution_count": 23,
          "metadata": {},
          "output_type": "execute_result"
        }
      ],
      "source": [
        "df['release_year'].unique()"
      ]
    },
    {
      "cell_type": "code",
      "execution_count": null,
      "metadata": {
        "colab": {
          "base_uri": "https://localhost:8080/"
        },
        "id": "mRxieNfvZ1yC",
        "outputId": "7e34fcde-6d3a-4437-901e-15aab4caa660"
      },
      "outputs": [
        {
          "name": "stdout",
          "output_type": "stream",
          "text": [
            "['Dick Johnson Is Dead', 'Jailbirds New Orleans', 'Vendetta: Truth, Lies and The Mafia', 'Crime Stories: India Detectives', \"Europe's Most Dangerous Man: Otto Skorzeny in Spain\", 'Monsters Inside: The 24 Faces of Billy Milligan', 'My Heroes Were Cowboys', 'Raja Rasoi Aur Anya Kahaniyan', 'Stories by Rabindranath Tagore', \"The World's Most Amazing Vacation Rentals\", 'The Women and the Murderer', 'Untold: Breaking Point', 'Countdown: Inspiration4 Mission to Space', 'Money Heist: From Tokyo to Berlin', 'Final Account', 'Luv Kushh', 'Pororo - The Little Penguin', 'How to Be a Cowboy', 'Turning Point: 9/11 and the War on Terror', 'Untold: Crime & Penalties', 'Titletown High', 'John of God: The Crimes of a Spiritual Healer', 'Motel Makeover', 'The River Runner', 'Count Me In', 'Oggy Oggy', 'Untold: Caitlyn Jenner', 'Comedy Premium League', 'Memories of a Murderer: The Nilsen Tapes', 'Untold: Deal With the Devil', 'Mother Goose Club', 'The Creative Indians', 'Bake Squad', 'Misha and the Wolves', 'Untold: Malice at the Palace', 'City of God: 10 Years Later', 'Cocaine Cowboys: The Kings of Miami', 'Pray Away', 'Top Secret UFO Projects: Declassified', 'Glow Up', 'Khawatir', 'Myth & Mogul: John DeLorean', 'Fantastic Fungi', 'Tattoo Redo', 'The Movies That Made Us', '9to5: The Story of a Movement', 'Sexy Beasts', 'Explained', 'Naomi Osaka', 'Lift Like a Girl', 'This Changes Everything', 'Heist', 'My Unorthodox Life', 'Born to Play', 'Elize Matsunaga: Once Upon a Crime', 'Awon Boyz', 'Cat People', 'Dogs', 'Chelsea', 'I AM A KILLER', 'Larva', 'Big Timber', 'Audible', \"Droppin' Cash: Los Angeles\", 'Sophie: A Murder in West Cork', 'Sisters on Track', 'Murder by the Coast', 'This Is Pop', 'Cleo & Cuquin', 'Penguin Town', 'The Reason I Jump', 'Picture a Scientist', 'Trese After Dark', 'Fresh, Fried & Crispy', 'Fireplace 4K: Classic Crackling Fireplace from Fireplace for Your Home', 'Fireplace 4K: Crackling Birchwood from Fireplace for Your Home', 'Human: The World Within', 'From Stress to Happiness', 'Black Holes | The Edge of All We Know', 'Cocomelon', 'The Least Expected Day: Inside the Movistar Team 2019', 'High on the Hog: How African American Cuisine Transformed America', 'Nail Bomber: Manhunt', '99 Songs (Tamil)', '99 Songs (Telugu)', 'Creating an Army of the Dead', 'Hating Peter Tatchell', 'The Last Days', 'Alma Matters', 'Haunted', 'Money, Explained', \"In Our Mothers' Gardens\", 'Sab Jholmaal Hai', 'The Sons of Sam: A Descent into Darkness', 'Angelina Ballerina', 'Miniforce: Super Dino Power', 'Pet Stars', 'Keymon and Nani in Space Adventure', 'Free to Play', 'Dancing Angels', 'Ajaibnya Cinta', 'Indian Matchmaking', 'Jeffrey Epstein: Filthy Rich', 'Unnatural Selection', 'Why Did You Kill Me?', 'My Love: Six Stories of True Love', 'Shiva VS Autobots', 'Shiva: Journey to Plunotaria', 'Shiva: The Secret World Of Vedas City', 'The Big Day', 'The Wedding Coach', \"This Is a Robbery: The World's Biggest Art Heist\", 'Coded Bias', 'Glimpses of a Future', 'Ibrahim a Fate to Define', 'Magical Andes', 'Worn Stories', 'Haunted: Latin America', 'Marked', 'Elizabeth and Margaret: Love and Loyalty', 'Pui Pui Molcar', 'Seaspiracy', 'Formula 1: Drive to Survive', 'Under Suspicion: Uncovering the Wesphael Case', 'The Last Blockbuster', 'Last Chance U: Basketball', 'Marriage or Mortgage', 'Nevenka: Breaking the Silence', 'Murder Among the Mormons', 'Made You Look: A True Story About Fake Art', 'PelÃ©', 'Zindagi in Short', 'PerÃº: Tesoro escondido', 'The Most Unknown', 'Buried by the Bernards', 'Crime Scene: The Vanishing at the Cecil Hotel', 'Five Came Back: The Reference Films', 'Strip Down, Rise Up', 'Zig & Sharko', 'We Are: The Brooklyn Saints', 'Blown Away', 'Spycraft', 'Bling Empire', 'Night Stalker: The Hunt for a Serial Killer', 'Crack: Cocaine, Corruption & Conspiracy', \"Creating The Queen's Gambit\", 'Surviving Death', 'QB1: Beyond the Lights', 'Dream Home Makeover', 'The Minimalists: Less Is Now', 'SanPa: Sins of the Savior', 'Regiment Diaries', 'Morphle', 'BREAK IT ALL: The History of Rock in Latin America', 'How To Ruin Christmas', 'The Ripper', 'Canvas', \"The Surgeon's Cut\", 'Room 2806: The Accusation', 'Alien Worlds', 'The Bachelorette', 'The Holiday Movies That Made Us', 'The Repair Shop', 'Fabulous Lives of Bollywood Wives', 'If Anything Happens I Love You', 'We Are the Champions', 'Whose Streets?', 'The Beginning of Life 2: Outside', 'Trial 4', 'We Are All For The Fatherland', 'A Lion in the House', 'Bakugan: Armored Alliance', 'Country Ever After', 'Carmel: Who Killed Maria Marta?', 'The Beginning of Life', '60 Days In', 'LEGO Jurassic World: Legend of Isla Nublar', 'Secrets of the Saqqara Tomb', 'Guillermo Vilas: Settling the Score', 'Move', 'Bending the Arc', 'Unsolved Mysteries', 'Rooting for Roona', 'The Three Deaths of Marisela Escobedo', 'Deaf U', 'Super Monsters: Dia de los Monsters', 'Bad Boy Billionaires: India', 'Pat a Pat Como', 'Qurious Como', 'Human Nature', \"I'm Leaving Now\", 'American Murder: The Family Next Door', 'Bully', 'Whose Vote Counts, Explained', 'A Perfect Crime', 'Mighty Little Bheem', 'The Playbook', 'A Love Song for Latasha', 'Challenger', 'Hope Frozen: A Quest to Live Twice', 'Taco Chronicles', 'Get Organized with The Home Edit', 'La LÃ\\xadnea: Shadow of Narco', 'My Octopus Teacher', 'Waiting for \"Superman\"', \"Chef's Table: BBQ\", 'I AM A KILLER: RELEASED', 'Million Dollar Beach House', 'Rising Phoenix', 'Baewatch: Parental Guidance', 'John Was Trying to Contact Aliens', 'DeMarcus Family Rules', 'High Score', 'Islands of Faith', \"Beyond the Boundary: ICC Women's T20 World Cup Australia 2020\", '(Un)Well', 'Selling Sunset', 'Word Party Songs', \"World's Most Wanted\", 'Immigration Nation', 'The Umbrella Academy', 'The Speed Cubers', 'Tread', 'Sinatra: All or Nothing at All', 'Fear City: New York vs The Mafia', 'The Remix: Hip Hop X Fashion', 'Street Food: Latin America', 'Gigantosaurus', 'Father Soldier Son', 'Little Singham: Legend of Dugabakka', 'Skin Decision: Before and After', 'We Are One', 'Dating Around: Brazil', 'The Claudia Kishi Club', 'Southern Survival', 'Supermarket Sweep', 'The Silence of Others', 'Trotro', 'Homemade', 'Home Game', 'Seven (Tamil)', 'Seven (Telugu)', 'Athlete A', 'Babies', 'Disclosure', 'Dating Around', 'Lenox Hill', 'The Light of My Eyes', 'Spelling the Dream', 'Alone', 'History 101', 'Especial 20 aÃ±os FÃºtbol de Primera', 'Trial By Media', 'Hangar 1: The UFO Files', 'Hoarders', 'I Am Divine', 'A Secret Love', 'Murder to Mercy: The Cyntoia Brown Story', 'Coronavirus, Explained', 'Circus of Books', 'Win the Wilderness', 'ChuChu TV Nursery Rhymes & Kids Songs (Hindi)', 'The Innocence Files', 'LA Originals', 'The Circle France', 'Money Heist: The Phenomenon', 'Sol Levante', 'How to Fix a Drug Scandal', 'Man Like Mobeen', 'Mighty Raju Rio Calling', \"Sunderland 'Til I Die\", 'Dave Chappelle: The Kennedy Center Mark Twain Prize for American Humor', 'Making Unorthodox', 'Crip Camp: A Disability Revolution', 'A Life of Speed: The Juan Manuel Fangio Story', 'Tiger King: Murder, Mayhem and Madness', 'XV: Beyond the Tryline', 'Ken Burns Presents: College Behind Bars: A Film by Lynn Novick and Produced by Sarah Botstein', 'Dirty Money', 'Sitara: Let Girls Dream', \"ZZ TOP: THAT LITTLE OL' BAND FROM TEXAS\", 'The Trials of Gabriel Fernandez', 'Passion. Panache. Pep', 'Untamed Romania', 'ROAD TO ROMA', 'Who Killed Malcolm X?', 'The Pharmacist', 'Pop Team Epic', 'Find Yourself', 'Pandemic: How to Prevent an Outbreak', 'Tiny House Nation', 'Cheer', \"Border Security: America's Front Line\", 'Nisman: The Prosecutor, the President, and the Spy', 'Kevin Hart: Donâ\\x80\\x99t F**k This Up', 'After the Raid', \"Don't F**k with Cats: Hunting an Internet Killer\", \"Okafor's Law\", 'The Confession Killer', 'Iron Fists and Kung-Fu Kicks', 'Lugar de Mulher', 'What the F* Is Going On?', 'Narcoworld: Dope Stories', 'Who Killed Little Gregory?', 'Iron Sky: The Coming Race', 'The Toys That Made Us', 'To Be of Service', 'Greatest Events of WWII in Colour', 'The Devil Next Door', 'Fire in Paradise', 'The Old Thieves: The Legend of Artegios', 'The Road to El Camino: Behind the Scenes of El Camino: A Breaking Bad Movie', 'A 3 Minute Hug', 'It Takes a Lunatic', 'Little Singham: Kaal Ki Tabaahi', 'ChuChu TV Kids Songs, Learning Videos & Bedtime Stories', 'ChuChuTV Bedtime Stories & Moral Stories for Kids (English)', 'ChuChuTV Bedtime Stories & Moral Stories for Kids (Hindi)', 'ChuChuTV Surprise Eggs Learning Videos (English)', 'ChuChuTV Surprise Eggs Learning Videos (Hindi)', 'Interior Design Masters', 'Tell Me Who I Am', 'Ghosts of Sugar Land', 'League of Legends Origins', 'Rotten', 'Living Undocumented', 'Salam - The First ****** Nobel Laureate', 'Limitless', 'Little Baby Bum: Go Buster', 'Miniforce X', 'Cultivating the Seas: History and Future of the Full-Cycle Cultured Kindai Tuna', 'Sturgill Simpson Presents Sound & Fury', 'Birders', 'Fastest Car', 'Evelyn', 'Elena', 'Loo Loo Kids: Johny & Friends Musical Adventures', 'Moving Art', 'Million Pound Menu', 'American Factory', 'Happy Jail', 'Hasta los dientes', 'Screwball', 'Basketball or Nothing', 'Otherhood', 'The Great Hack', 'The Milk System', 'ParchÃ\\xads: the Documentary', 'River, el mÃ¡s grande siempre', 'Cristina', 'War Against Women', 'Dope', 'Exhibit A', 'Motown Magic', 'Unbroken', 'Girls Incarcerated', 'The Casketeers', 'The Confession Tapes', 'The Edge of Democracy', 'Life Overtakes Me', 'The AlcÃ\\xa0sser Murders', 'Silent', 'Killer Ratings', 'After Maria', 'A Tale of Two Kitchens', '1994', 'Born in Gaza', 'Born in Syria', 'Dying to Tell', \"ReMastered: The Lion's Share\", 'Weed the People', 'Jailbirds', 'Last Breath', 'All In My Family', 'ReMastered: Devil at the Crossroads', 'Street Food', 'Grass Is Greener', 'Generation Iron 3', 'Time: The Kalief Browder Story', 'Kicko & Super Speedo', 'The Legend of Cocaine Island', 'ReMastered: The Miami Showband Massacre', 'Antoine Griezmann: The Making of a Legend', 'The Disappearance of Madeleine McCann', 'Weapon of Choice', \"BNK48: Girls Don't Cry\", 'Cricket Fever: Mumbai Indians', 'Losers', \"Chef's Table\", 'Studio 54', 'Behind the Curve', 'Period. End of Sentence.', '14 Minutes from Earth', 'LEGO Marvel Super Heroes: Guardians of the Galaxy', 'Examination of Conscience', 'Polar', 'Conversations with a Killer: The Ted Bundy Tapes', 'FYRE: The Greatest Party That Never Happened', 'Abducted in Plain Sight', 'Adhugo', 'Back with the Ex', 'ReMastered: Massacre at the Stadium', 'Mexicanos de Bronce', 'Pioneers: First Women Filmmakers*', 'Murder Mountain', 'The Birth Reborn 3', '7 Days Out', 'Struggle: The Life and Lost Art of Szukalski', 'Once in a Lifetime Sessions with George Ezra', 'Once in a Lifetime Sessions with OneRepublic', 'Sad Hill Unearthed', 'Out of Many, One', 'ReMastered: Who Killed Jam Master Jay?', 'Ayotzinapa, el paso de la tortuga', 'Roll With Me', 'Paap-O-Meter', 'Muzaffarnagar Baaqi Hai', 'Age of Tanks', 'Westside', 'ReMastered: Tricky Dick & The Man in Black', 'Santo CachÃ³n', 'Shirkers', 'Terrorism Close Calls', 'The Hollywood Masters', 'Making a Murderer', 'Stunt Science', 'Feminists: What Were They Thinking?', 'ReMastered: Who Shot the Sheriff', 'The Meaning of Monty Python', 'The Birth Reborn', 'Three Wives One Husband', 'Lessons from a School Shooting: Notes from Dunblane', 'Made in Mexico', 'Two Catalonias', 'Battlefish', 'Boca Juniors Confidential', 'Norm Macdonald Has a Show', 'City of Joy', 'First and Last', 'Inside the Criminal Mind', \"Chicken Soup for the Soul's Being Dad\", 'Afflicted', 'Becoming Champions', 'The Bleeding Edge', 'Amazing Interiors', 'Dark Tourist', 'Drug Lords', 'First Team: Juventus', 'What We Started', 'Churchillâ\\x80\\x99s Secret Agents: The New Recruits', 'Recovery Boys', 'Pacificum: Return to the Ocean', 'The Staircase', 'November 13: Attack on Paris', 'The Break with Michelle Wolf', 'Food on the Go', 'Evil Genius', 'End Game', 'Coffee for All', 'Pocoyo Special Sports', 'The Rachel Divide', 'Mercury 13', 'Take Your Pills', 'Wild Wild Country', 'Ladies First', 'Flint Town', 'The Trader (Sovdagari)', 'Liberated: The New Sexual Revolution', 'Under Arrest', 'Countdown to Death: Pablo Escobar', 'The Reservoir Game', \"Eve's Apple\", 'The Secret', 'Cuba and the Cameraman', 'Shot in the Dark', 'Let It Fall: Los Angeles 1982-1992', 'One of Us', 'Kingdom of Us', 'The Death and Life of Marsha P. Johnson', 'Franca: Chaos and Creation', 'Generation Iron 2', 'Noddy Toyland Detective', 'The Royal House of Windsor', 'Long Shot', 'Out of Thin Air', 'Strong Island', 'Heroin(e)', 'Fire Chasers', 'Alias JJ, la celebridad del mal', 'High Risk', 'Resurface', 'Daughters of Destiny', 'I Called Him Morgan', 'Chasing Coral', 'Nobody Speak: Trials of the Free Press', 'Counterpunch', 'What the Health', 'Michael Lost and Found', 'Without Gorky', 'Joshua: Teenager vs. Superpower', 'The Keepers', 'Natascha Kampusch: The Whole Story', 'JFK: The Making of a President', 'Casting JonBenet', 'Hot Girls Wanted: Turned On', 'Life 2.0', 'Outback Truckers', 'Cheer Squad', 'Rush: Beyond the Lighted Stage', 'Hitler - A Career', 'Casablancas: The Man Who Loved Women', 'Captive', 'The Cuba Libre Story', '#Rucker50', 'The Ivory Game', '13TH', \"Masha's Spooky Stories\", 'Amanda Knox', 'Audrie & Daisy', 'The White Helmets', 'Extremis', \"Chef's Table: France\", 'Saudi Arabia Uncovered', 'Behind Enemy Lines', 'Real Crime: Supermarket Heist (Tesco Bomber)', 'Children of God', 'Cocaine', 'Edge of the Universe', '72 Cutest Animals', 'Team Foxcatcher', 'Frank and Cindy', \"Masha's Tales\", 'Sammy & Co', \"Winter on Fire: Ukraine's Fight for Freedom\", 'What Happened, Miss Simone?', 'Hot Girls Wanted', \"Oscar's Oasis\", 'Virunga: Gorillas in Peril', 'Virunga', 'E-Team', 'Print the Legend', 'From One Second to the Next', '(T)ERROR', '#cats_the_mewvie', '100 Days Of Solitude', \"100 Years: One Woman's Fight for Justice\", '3 Seconds Divorce', 'A Gray State', 'A Leaf of Faith', 'A Murder in the Park', 'A new Capitalism', 'A Week in Watts', 'After Porn Ends', 'After Porn Ends 3', 'Alarmoty in the Land of Fire', 'Alive and Kicking', 'AlphaGo', 'American Circumcision', 'American Experience: The Circus', 'An American in Madras', 'Anjaan: Rural Myths', 'å¿\\x8dè\\x80\\x85ã\\x83\\x8fã\\x83\\x83ã\\x83\\x88ã\\x83ªã\\x81\\x8fã\\x82\\x93', 'Apache Warrior', 'Aussie Gold Hunters', 'Bachelor Girls', 'Barbecue', 'Battlefield Recovery', 'Beak & Brain: Genius Birds From Down Under', 'Beary Tales', 'Behind \"The Cove\": The Quiet Japanese Speak Out', 'Berlin, I Love You', 'Bheemayan', 'Black Man White Skin', 'Blackfish', 'Blurred Lines: Inside the Art World', 'Bobby Sands: 66 Days', 'Bugs', 'Bure Kaam Bura Natija, Kyun Bhai Chacha Haan Bhatija', 'Burlesque: Heart of the Glitter Tribe', 'Calico Critters: A Town of Dreams', 'Calico Critters: The Treasure of Calico Village', 'Camp X', 'Capital in the Twenty-First Century', 'Catching the Sun', 'Catwalk: Tales from the Cat Show Circuit', 'Christiane Amanpour: Sex & Love Around the World', 'Chuck Chicken', 'City in the Sky', 'Civilizations', 'Cold Case Files', 'Command and Control', 'Conan Without Borders', 'Concrete Football', 'Cop Watchers', 'Dare to Be Wild', 'Democrats', 'Diana: In Her Own Words', 'Dinner for Five', 'Dino Hunt', 'Diva Brides', 'Down The Fence', 'Dragonkala Ka Rahasya', 'Dream Boat', 'El fin de ETA', 'El Viaje: MÃ¡rama y Rombai', 'Elizabeth at 90: A Family Tribute', 'Elles Ã©taient en guerre 1939-1945', 'Elles ont toutes une histoire', 'Empire of Scents', 'Exit Afghanistan', 'Famous in Ahmedabad', 'Fear Files... Har Mod Pe Darr', 'Fishpeople', 'Fittest in Dubai', 'Footprints: The Path of Your Life', 'For Grace', 'Forces of Nature', 'Forever Chape', 'Forever Pure', 'Forget Me Not', 'Forks Over Knives', 'Friday Night Tykes', 'Functional Fitness', 'GLOW: The Story of the Gorgeous Ladies of Wrestling', 'Golden Time', 'Great Yellowstone Thaw', 'Gringo: The Dangerous Life of John McAfee', 'Growing Up Coy', 'Gun Runners', 'Harry & Bunnie', 'Haunters: The Art of the Scare', 'Highly Strung', \"History's Greatest Hoaxes\", \"Hitler's Olympics\", \"Hitler's Steel Beast\", 'Holy Hell', 'Hostage to the Devil', 'Hostages', 'How to Change the World', 'How to Live Mortgage Free with Sarah Beeny', 'How to Win the US Presidency', 'I Am Sun Mu', 'I Dream Of Dance', 'Incorruptible', 'Influx', 'Inside The Freemasons', 'Inside the Mind of a Serial Killer', 'Inside the Mossad', 'Inst@famous', 'Invisible Essence: The Little Prince', 'Islands of the Future', 'Jack of all Trades', 'JingleKids', 'Joe Cocker: Mad Dog with Soul', 'John & Jane', 'Jugaad', 'Ken Burns: The Roosevelts: An Intimate History', 'Kingdoms of the Sky', 'Kon Kon Kon', 'LA 92', 'Le serment des Hitler', 'LEGO Ninjago: Masters of Spinjitzu: Day of the Departed', 'Les Bleus - Une autre histoire de France, 1996-2016', 'License to Drill: Louisiana', 'Life in the Doghouse', 'Little Singham aur Kaal ka Mahajaal', 'Little Singham in London', 'Lo que la verdad esconde: El caso Asunta (Operacion NenÃºfar)', 'Los NiÃ±os HÃ©roes de Chapultepec', 'Los tiempos de Pablo Escobar', 'Losing Sight of Shore', 'LoveTrue', 'Marching Orders', 'Martyrs of Marriage', 'Maynard', 'Meet the Trumps: From Immigrant to President', 'Mega Food', 'MegaTruckers', 'Melodies of Life - Born This Way', 'Memory Games', 'Mexico DiseÃ±a', 'Mini Wolf', 'Miss Representation', 'Mission Control: The Unsung Heroes of Apollo', 'Money for Nothing', 'Monster High: Haunted', \"Monty Don's French Gardens\", 'Mortified Nation', 'Mountain', 'Murderous Affairs', 'Naga The Eternal Yogi', \"Naledi: A Baby Elephant's Tale\", 'National Bird', 'Nazi Concentration Camps', 'Nazi Mega Weapons', 'Newtown', 'Not Alone', 'NOVA: Eclipse Over America', 'NOVA: Holocaust Escape Tunnel', 'NOVA: Thai Cave Rescue', 'NOVA: The Impossible Flight', 'Nuestra Lucha Libre', 'Numbered', 'Numero Zero. The Roots of Italian Rap', 'Nurses Who Kill', 'Oh My Ghost 4', 'Oklahoma City', 'Once In A Lifetime Sessions with TLC', 'One More Shot', 'Operation Odessa', 'Origins Collection', 'Pablo Escobar: Angel or Demon?', 'Palio', 'Paranormal Survivor', 'Paris Is Burning', 'Patient Seventeen', 'Pick of the Litter', 'Pioneers of African-American Cinema', 'Playing Hard', 'Prelude to War', 'Prince Jai Aur Dumdaar Viru', 'Q Ball', 'Queens of Comedy', 'Radical: the Controversial Saga of Dada Figueiredo', 'Raiders!: The Story of the Greatest Fan Film Ever Made', 'Rats', 'Rica, Famosa, Latina', 'Roll Red Roll', 'Rolling Papers', 'Roots', 'S Is for Stanley', 'Sacro GRA', 'San Pietro', 'Shadow of Truth', 'Silicon Cowboys', 'Skydancers', 'Smash: Motorized Mayhem', 'Social Animals', 'Sons of Ben', 'Sour Grapes', 'Speed Is My Need', 'Star Men', 'Stop at Nothing: The Lance Armstrong Story', 'Strike a Pose', 'Strongland', 'SuperNature: Wild Flyers', 'Sustainable', 'Teach Us All', 'Tellur Aliens', 'Thackeray', 'The 2000s', 'The 24 Hour War', 'The Accountant of Auschwitz', 'The Animal People', 'The Bachelor', 'The Bad Kids', 'The Beginning of Life: The Series', 'The Bomb', 'The Calling', 'The Darkest Dawn', 'The Devil and Father Amorth', 'The Devil We Know', 'The Eighties', 'The Fear of 13', 'The Force', 'The Future of Water', 'The Gentleman Driver', 'The Golden Years with Javed Akhtar', 'The Heat: A Kitchen (R)evolution', 'The House on Coco Road', 'The Human Factor: The Untold Story of the Bombay Film Orchestras', 'The Jack King Affair', 'The Last Resort', 'The Legend of 420', 'The Long Goodbye: The Kara Tippetts Story', 'The Look of Silence', 'The Lovers and the Despot', 'The Memphis Belle: A Story of a\\nFlying Fortress', 'The Minimighty Kids', 'The Mortified Guide', 'The Murder Detectives', 'The Negro Soldier', 'The Nineties', 'The NSU-Complex', 'The Perfect Day', 'The Power of Grayskull: The Definitive History of He-Man and the Masters of the Universe', 'The Rat Race', 'The Redeemed and the Dominant: Fittest on Earth', 'The Search for Life in Space', 'The Seven Five', 'The Seventies', 'The Spy Who Fell to Earth', 'The Sunshine Makers', 'The Surrounding Game', 'The Vietnam War: A Film by Ken Burns and Lynn Novick', 'The Women Who Kill Lions', 'Theo Who Lived', 'This Was Tomorrow', 'To Be a Miss', 'Tokyo Idols', 'Top 10 Secrets and Mysteries', 'Top Grier', 'Towies', 'Treasures from the Wreck of the Unbelievable', 'Tree Man', 'Trophy', 'Tyke Elephant Outlaw', 'Unacknowledged', 'Undercover: How to Operate Behind Enemy Lines', 'Vegas Baby', 'Wartime Portraits', 'Water & Power: A California Heist', 'Waterschool', 'We, the Marines', 'What Makes a Psychopath?', 'When Hari Got Married', 'When Two Worlds Collide', 'Why Knot', 'Why We Fight: The Battle of Russia', 'Williams', 'Winnie', 'Women Behind Bars', 'Woodstock', 'WWII: Report from the Aleutians', 'Zombie Dumb']\n"
          ]
        }
      ],
      "source": [
        "all = df[df[\"cast\"].isnull() == True]['title']\n",
        "\n",
        "return_list = []\n",
        "\n",
        "for item in all:\n",
        "  return_list.append(item)\n",
        "\n",
        "print(return_list)"
      ]
    }
  ],
  "metadata": {
    "colab": {
      "provenance": []
    },
    "kernelspec": {
      "display_name": "Python 3",
      "name": "python3"
    },
    "language_info": {
      "name": "python"
    }
  },
  "nbformat": 4,
  "nbformat_minor": 0
}
