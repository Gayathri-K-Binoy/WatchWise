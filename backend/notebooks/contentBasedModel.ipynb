{
  "nbformat": 4,
  "nbformat_minor": 0,
  "metadata": {
    "colab": {
      "provenance": []
    },
    "kernelspec": {
      "name": "python3",
      "display_name": "Python 3"
    },
    "language_info": {
      "name": "python"
    }
  },
  "cells": [
    {
      "cell_type": "markdown",
      "source": [
        "# 1. Importing Libraries"
      ],
      "metadata": {
        "id": "maZPce_6xnDL"
      }
    },
    {
      "cell_type": "code",
      "source": [
        "import polars as pl\n",
        "import os\n",
        "import joblib"
      ],
      "metadata": {
        "id": "AjpilCFSxk21"
      },
      "execution_count": 14,
      "outputs": []
    },
    {
      "cell_type": "markdown",
      "source": [
        "# 2. Loading The Dataset & Define Paths For Files"
      ],
      "metadata": {
        "id": "xv56e1VKxup7"
      }
    },
    {
      "cell_type": "code",
      "source": [
        "DATA_PATH = \"/content/netflix_mood_recommender_test_corrected.csv\"\n",
        "TFIDF_MATRIX_PATH = 'tfidf_matrix.joblib'\n",
        "VECTORIZER_PATH = 'tfidf_vectorizer.joblib'"
      ],
      "metadata": {
        "id": "fYgzlw6soEOd"
      },
      "execution_count": 12,
      "outputs": []
    },
    {
      "cell_type": "code",
      "source": [
        "df = pl.read_csv(DATA_PATH)"
      ],
      "metadata": {
        "id": "L7_lt-GAxyvs"
      },
      "execution_count": 18,
      "outputs": []
    },
    {
      "cell_type": "markdown",
      "source": [
        "#3. Process Features"
      ],
      "metadata": {
        "id": "khKJck3YyZKw"
      }
    },
    {
      "cell_type": "code",
      "source": [
        "from sklearn.feature_extraction.text import TfidfVectorizer\n",
        "\n",
        "if os.path.exists(VECTORIZER_PATH) and os.path.exists(TFIDF_MATRIX_PATH):\n",
        "    tfidf = joblib.load(VECTORIZER_PATH)\n",
        "    tfidf_matrix = joblib.load(TFIDF_MATRIX_PATH)\n",
        "else:\n",
        "    df = df.with_columns(\n",
        "    (pl.col('mood') + \" \" + pl.col('description')).alias('combined_text')\n",
        "    )\n",
        "\n",
        "    tfidf = TfidfVectorizer(stop_words='english')\n",
        "    tfidf_matrix = tfidf.fit_transform(df['combined_text'].to_list())\n",
        "\n",
        "    # Save the vectorizer and matrix using Joblib\n",
        "    joblib.dump(tfidf, VECTORIZER_PATH)\n",
        "    joblib.dump(tfidf_matrix, TFIDF_MATRIX_PATH)"
      ],
      "metadata": {
        "id": "xauzs85Oyggx"
      },
      "execution_count": 19,
      "outputs": []
    },
    {
      "cell_type": "markdown",
      "source": [
        "# 6. Function to recommend shows"
      ],
      "metadata": {
        "id": "gDXqJ2Zc0LK0"
      }
    },
    {
      "cell_type": "code",
      "execution_count": 25,
      "metadata": {
        "id": "M0qR34X6xHu7"
      },
      "outputs": [],
      "source": [
        "import random\n",
        "from sklearn.metrics.pairwise import cosine_similarity\n",
        "\n",
        "def recommend_show(user_mood, num_recommendations, df=df, tfidf=tfidf, tfidf_matrix=tfidf_matrix):\n",
        "    user_input_vector = tfidf.transform([user_mood])\n",
        "    similarity_scores = cosine_similarity(user_input_vector, tfidf_matrix).flatten()\n",
        "\n",
        "    # Add similarity column\n",
        "    df = df.with_columns(\n",
        "        pl.Series(\"similarity\", similarity_scores)\n",
        "    )\n",
        "\n",
        "    # Filter shows matching the mood (case insensitive)\n",
        "    user_mood_lower = user_mood.lower()\n",
        "    filtered_df = df.filter(\n",
        "        pl.col(\"mood\").str.to_lowercase().str.contains(user_mood_lower)\n",
        "    )\n",
        "\n",
        "    # Sort by similarity and return top recommendations\n",
        "    recommendations = filtered_df.sort(\"similarity\",\n",
        "                                       descending=True).head(num_recommendations)\n",
        "\n",
        "    if len(recommendations) == 0:\n",
        "        return f\"No shows found for the mood '{user_mood}'.\"\n",
        "\n",
        "    return recommendations[\"title\"].to_list()"
      ]
    },
    {
      "cell_type": "markdown",
      "source": [
        "# Testing"
      ],
      "metadata": {
        "id": "hmwtVp_G0Sa8"
      }
    },
    {
      "cell_type": "code",
      "source": [
        "user_mood = \", \".join(sorted(\"anger, surprise\".split(\", \")))\n",
        "num_recommendations = 10\n",
        "\n",
        "recommended_shows = recommend_show(user_mood, num_recommendations)\n",
        "print(f\"Top {num_recommendations} recommended shows for mood '{user_mood}':\")\n",
        "for show in recommended_shows:\n",
        "    print(f\"- {show}\")"
      ],
      "metadata": {
        "colab": {
          "base_uri": "https://localhost:8080/"
        },
        "collapsed": true,
        "id": "w6TrvGbC0TqN",
        "outputId": "f5be10d0-52ff-4f6b-d61c-4a55c6a1fa85"
      },
      "execution_count": 26,
      "outputs": [
        {
          "output_type": "stream",
          "name": "stdout",
          "text": [
            "Top 10 recommended shows for mood 'anger, surprise':\n",
            "- Motu Patlu VS Robo Kids\n",
            "- Antariksha Ke Rakhwale\n",
            "- Reaction\n",
            "- Aussie Gold Hunters\n",
            "- Welcome Mr. President\n",
            "- Anjaan\n",
            "- Show Me the Money\n",
            "- Who Would You Take to a Deserted Island?\n",
            "- Love Family\n",
            "- All The Reasons To Forget\n"
          ]
        }
      ]
    },
    {
      "cell_type": "markdown",
      "source": [
        "Top 10 recommended shows for mood 'anger, surprise':\n",
        "- Motu Patlu VS Robo Kids\n",
        "- Antariksha Ke Rakhwale\n",
        "- Reaction\n",
        "- Aussie Gold Hunters\n",
        "- Welcome Mr. President\n",
        "- Anjaan\n",
        "- Show Me the Money\n",
        "- Who Would You Take to a Deserted Island?\n",
        "- Love Family\n",
        "- All The Reasons To Forget"
      ],
      "metadata": {
        "id": "0LVfr5IdX9pY"
      }
    },
    {
      "cell_type": "code",
      "source": [
        "mood_counts = df.select(pl.col(\"mood\").value_counts())"
      ],
      "metadata": {
        "id": "zmjEvmtP4Q7o"
      },
      "execution_count": 29,
      "outputs": []
    },
    {
      "cell_type": "code",
      "source": [
        "for row in mood_counts.iter_rows():\n",
        "    mood = row[0]['mood']\n",
        "    count = row[0]['count']\n",
        "    print(f\"{mood}: {count}\")"
      ],
      "metadata": {
        "colab": {
          "base_uri": "https://localhost:8080/"
        },
        "id": "kHFKyNeJ4uh6",
        "outputId": "11ff5869-826f-4d6f-d4cd-3c79c51835c8"
      },
      "execution_count": 32,
      "outputs": [
        {
          "output_type": "stream",
          "name": "stdout",
          "text": [
            "joy, surprise: 1122\n",
            "fear, joy: 296\n",
            "anger, disgust: 1985\n",
            "anger, surprise: 58\n",
            "fear, sadness: 628\n",
            "joy, sadness: 461\n",
            "disgust, joy: 904\n",
            "fear, surprise: 370\n",
            "disgust, fear: 977\n",
            "disgust, surprise: 135\n",
            "disgust, sadness: 822\n",
            "anger, joy: 174\n",
            "anger, fear: 621\n",
            "anger, sadness: 150\n",
            "sadness, surprise: 106\n"
          ]
        }
      ]
    },
    {
      "cell_type": "code",
      "source": [],
      "metadata": {
        "id": "cIwn-kor4Zxa"
      },
      "execution_count": null,
      "outputs": []
    }
  ]
}