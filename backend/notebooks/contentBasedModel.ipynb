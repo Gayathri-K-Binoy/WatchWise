{
  "cells": [
    {
      "cell_type": "markdown",
      "metadata": {
        "id": "LoWBHrG1zCJy"
      },
      "source": [
        "# **Content Based Model**"
      ]
    },
    {
      "cell_type": "markdown",
      "metadata": {
        "id": "maZPce_6xnDL"
      },
      "source": [
        "## 1. Importing Libraries"
      ]
    },
    {
      "cell_type": "code",
      "execution_count": null,
      "metadata": {
        "id": "AjpilCFSxk21"
      },
      "outputs": [],
      "source": [
        "import polars as pl\n",
        "import os\n",
        "import joblib"
      ]
    },
    {
      "cell_type": "markdown",
      "metadata": {
        "id": "xv56e1VKxup7"
      },
      "source": [
        "## 2. Loading The Dataset & Define Paths For Files"
      ]
    },
    {
      "cell_type": "code",
      "execution_count": null,
      "metadata": {
        "id": "fYgzlw6soEOd"
      },
      "outputs": [],
      "source": [
        "DATA_PATH = \"/content/new.csv\"\n",
        "TFIDF_MATRIX_PATH = 'tfidf_matrix.joblib'\n",
        "VECTORIZER_PATH = 'tfidf_vectorizer.joblib'"
      ]
    },
    {
      "cell_type": "code",
      "execution_count": null,
      "metadata": {
        "id": "L7_lt-GAxyvs"
      },
      "outputs": [],
      "source": [
        "df = pl.read_csv(DATA_PATH)"
      ]
    },
    {
      "cell_type": "markdown",
      "metadata": {
        "id": "khKJck3YyZKw"
      },
      "source": [
        "##3. Process Features"
      ]
    },
    {
      "cell_type": "code",
      "execution_count": null,
      "metadata": {
        "id": "xauzs85Oyggx"
      },
      "outputs": [],
      "source": [
        "from sklearn.feature_extraction.text import TfidfVectorizer\n",
        "\n",
        "if os.path.exists(VECTORIZER_PATH) and os.path.exists(TFIDF_MATRIX_PATH):\n",
        "    tfidf = joblib.load(VECTORIZER_PATH)\n",
        "    tfidf_matrix = joblib.load(TFIDF_MATRIX_PATH)\n",
        "else:\n",
        "    df = df.with_columns(\n",
        "    (pl.col('mood') + \" \" + pl.col('description')).alias('combined_text')\n",
        "    )\n",
        "\n",
        "    tfidf = TfidfVectorizer(stop_words='english')\n",
        "    tfidf_matrix = tfidf.fit_transform(df['combined_text'].to_list())\n",
        "\n",
        "    # Save the vectorizer and matrix using Joblib\n",
        "    joblib.dump(tfidf, VECTORIZER_PATH)\n",
        "    joblib.dump(tfidf_matrix, TFIDF_MATRIX_PATH)"
      ]
    },
    {
      "cell_type": "markdown",
      "metadata": {
        "id": "gDXqJ2Zc0LK0"
      },
      "source": [
        "## 4. Function to recommend shows"
      ]
    },
    {
      "cell_type": "code",
      "execution_count": null,
      "metadata": {
        "id": "M0qR34X6xHu7"
      },
      "outputs": [],
      "source": [
        "import random\n",
        "from sklearn.metrics.pairwise import cosine_similarity\n",
        "\n",
        "def recommend_show(user_mood, num_recommendations, df = df, tfidf = tfidf, tfidf_matrix = tfidf_matrix):\n",
        "    user_input_vector = tfidf.transform([user_mood])\n",
        "    similarity_scores = cosine_similarity(user_input_vector, tfidf_matrix).flatten()\n",
        "\n",
        "    # Add similarity column\n",
        "    df = df.with_columns(\n",
        "        pl.Series(\"similarity\", similarity_scores)\n",
        "    )\n",
        "\n",
        "    # Filter shows matching the mood (case insensitive)\n",
        "    user_mood_lower = user_mood.lower()\n",
        "    filtered_df = df.filter(\n",
        "        pl.col(\"mood\").str.to_lowercase().str.contains(user_mood_lower)\n",
        "    )\n",
        "\n",
        "    # Sort by similarity and return top recommendations\n",
        "    recommendations = filtered_df.sort(\"similarity\", descending=True).head(num_recommendations)\n",
        "\n",
        "    if len(recommendations) == 0:\n",
        "        return f\"No shows found for the mood '{user_mood}'.\"\n",
        "\n",
        "    return recommendations[\"title\"].to_list()"
      ]
    },
    {
      "cell_type": "markdown",
      "metadata": {
        "id": "hmwtVp_G0Sa8"
      },
      "source": [
        "#**Testing**"
      ]
    },
    {
      "cell_type": "code",
      "execution_count": null,
      "metadata": {
        "colab": {
          "base_uri": "https://localhost:8080/"
        },
        "collapsed": true,
        "id": "w6TrvGbC0TqN",
        "outputId": "f920a56a-27ee-48c5-e9e9-111be2a91ac8"
      },
      "outputs": [
        {
          "output_type": "stream",
          "name": "stdout",
          "text": [
            "Top 20 recommended shows for mood 'annoyed':\n",
            "- title\n",
            "- mood\n",
            "- description\n",
            "- similarity\n"
          ]
        }
      ],
      "source": [
        "user_mood = \"annoyed\"\n",
        "num_recommendations = 20\n",
        "\n",
        "recommended_shows = recommend_show(user_mood, num_recommendations)\n",
        "print(f\"Top {num_recommendations} recommended shows for mood '{user_mood}':\")\n",
        "for show in recommended_shows:\n",
        "    print(f\"- {show}\")"
      ]
    },
    {
      "cell_type": "markdown",
      "metadata": {
        "id": "0LVfr5IdX9pY"
      },
      "source": [
        "Top 10 recommended shows for mood 'anger, surprise':\n",
        "- Motu Patlu VS Robo Kids\n",
        "- Antariksha Ke Rakhwale\n",
        "- Reaction\n",
        "- Aussie Gold Hunters\n",
        "- Welcome Mr. President\n",
        "- Anjaan\n",
        "- Show Me the Money\n",
        "- Who Would You Take to a Deserted Island?\n",
        "- Love Family\n",
        "- All The Reasons To Forget"
      ]
    },
    {
      "cell_type": "code",
      "execution_count": null,
      "metadata": {
        "id": "zmjEvmtP4Q7o"
      },
      "outputs": [],
      "source": [
        "mood_counts = df.select(pl.col(\"mood\").value_counts())"
      ]
    },
    {
      "cell_type": "code",
      "execution_count": null,
      "metadata": {
        "colab": {
          "base_uri": "https://localhost:8080/"
        },
        "id": "kHFKyNeJ4uh6",
        "outputId": "d71aaa39-433a-4ab3-f581-86369888f1bb"
      },
      "outputs": [
        {
          "output_type": "stream",
          "name": "stdout",
          "text": [
            "lonely, surprise: 1\n",
            "fear, sadness: 41\n",
            "anger, annoyed: 15\n",
            "excited, fear: 5\n",
            "relaxed, tense: 13\n",
            "relaxed, sadness: 88\n",
            "disgust, sadness: 4\n",
            "anger, romantic: 5\n",
            "joy, romantic: 118\n",
            "fear, scared: 16\n",
            "annoyed, curious: 75\n",
            "curious, sadness: 174\n",
            "annoyed, joy: 13\n",
            "annoyed, disgust: 7\n",
            "anger, tense: 302\n",
            "anger, scared: 10\n",
            "disgust, tense: 9\n",
            "fear, surprise: 3\n",
            "excited, scared: 74\n",
            "lonely, tense: 2\n",
            "excited, romantic: 161\n",
            "excited, joy: 450\n",
            "anger, disgust: 4\n",
            "surprise, tense: 56\n",
            "excited, lonely: 2\n",
            "annoyed, romantic: 47\n",
            "surprised, tense: 2\n",
            "curious, relaxed: 619\n",
            "excited, surprise: 85\n",
            "curious, romantic: 98\n",
            "curious, scared: 62\n",
            "annoyed, sadness: 79\n",
            "anger, sadness: 138\n",
            "annoyed, scared: 7\n",
            "curious, excited: 444\n",
            "excited, relaxed: 157\n",
            "disgust, fear: 1\n",
            "romantic, tense: 296\n",
            "relaxed, romantic: 105\n",
            "joy, scared: 7\n",
            "joy, sadness: 109\n",
            "annoyed, surprised: 1\n",
            "sadness, tense: 460\n",
            "romantic, surprise: 69\n",
            "annoyed, relaxed: 77\n",
            "curious, joy: 20\n",
            "scared, surprise: 19\n",
            "curious, surprised: 12\n",
            "curious, sad: 3\n",
            "anger, curious: 2\n",
            "curious, lonely: 8\n",
            "joy, tense: 10\n",
            "annoyed, tense: 277\n",
            "fear, tense: 303\n",
            "curious, disgust: 7\n",
            "romantic, sadness: 283\n",
            "romantic, scared: 7\n",
            "anger, fear: 4\n",
            "excited, tense: 945\n",
            "joy, surprise: 39\n",
            "curious, surprise: 43\n",
            "lonely, relaxed: 4\n",
            "joy, relaxed: 642\n",
            "lonely, scared: 3\n",
            "sadness, surprise: 36\n",
            "lonely, sadness: 42\n",
            "relaxed, surprise: 5\n",
            "excited, surprised: 2\n",
            "curious, tense: 710\n",
            "excited, sadness: 41\n",
            "scared, tense: 626\n",
            "sadness, scared: 23\n",
            "annoyed, excited: 111\n",
            "annoyed, surprise: 16\n",
            "annoyed, lonely: 1\n",
            "anger, excited: 14\n",
            "curious, fear: 3\n",
            "disgust, scared: 19\n",
            "fear, joy: 2\n",
            "fear, romantic: 1\n",
            "lonely, romantic: 7\n",
            "anger, surprise: 3\n",
            "sad, tense: 4\n",
            "curious, annoyed: 1\n"
          ]
        }
      ],
      "source": [
        "for row in mood_counts.iter_rows():\n",
        "    mood = row[0]['mood']\n",
        "    count = row[0]['count']\n",
        "    print(f\"{mood}: {count}\")"
      ]
    },
    {
      "cell_type": "code",
      "execution_count": null,
      "metadata": {
        "id": "cIwn-kor4Zxa"
      },
      "outputs": [],
      "source": []
    }
  ],
  "metadata": {
    "colab": {
      "provenance": []
    },
    "kernelspec": {
      "display_name": "Python 3",
      "name": "python3"
    },
    "language_info": {
      "name": "python"
    }
  },
  "nbformat": 4,
  "nbformat_minor": 0
}